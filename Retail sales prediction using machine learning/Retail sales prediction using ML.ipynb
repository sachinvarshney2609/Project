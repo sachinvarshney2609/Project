{
 "cells": [
  {
   "cell_type": "markdown",
   "metadata": {
    "colab_type": "text",
    "id": "9ku0h8OsoHJz"
   },
   "source": [
    "<p align=\"center\"><img src=\"https://github.com/insaid2018/Term-1/blob/master/Images/INSAID_Full%20Logo.png?raw=true\" width=\"260\" height=\"110\" /></p>"
   ]
  },
  {
   "cell_type": "markdown",
   "metadata": {},
   "source": [
    "---\n",
    "Project Submitted by: Sachin Varshney <br>\n",
    "Email ID: varshney.sachin@gmail.com <br>\n",
    "Cohort: August 2020 <br>\n",
    "Term: Term 3 <br>\n",
    "Domain: Retail : Online Sales Data Prediction using Machine Learning\n",
    "\n"
   ]
  },
  {
   "cell_type": "markdown",
   "metadata": {
    "colab_type": "text",
    "id": "NWvRwRdGoK5Y"
   },
   "source": [
    "---\n",
    "# **Table of Contents**\n",
    "---\n",
    "\n",
    "1. [**Introduction**](#Section1)<br>\n",
    "2. [**Problem Statement**](#Section2)<br>\n",
    "3. [**Importing Libraries**](#Section3)<br>\n",
    "4. [**Data Acquisition & Description**](#Section4)<br>\n",
    "5. [**Data Pre-Profiling**](#Section5)<br>\n",
    "6. [**Data Pre-Processing**](#Section6)<br>\n",
    "7. [**Data Post-Profiling**](#Section7)<br>\n",
    "8. [**Exploratory Data Analysis**](#Section8)<br>\n",
    "  8.1. [**Correlation**](#Section81) <br>\n",
    "9. [**Getting Data Ready for ML**](#Section9) <br>\n",
    "  9.1 [**Dividing data into X and y**](#Section91) <br>\n",
    "  9.2 [**Seperating categorical and numerical independent features**](#Section92) <br>\n",
    "  9.3 [**Normalization of Data**](#Section93) <br>\n",
    "  9.4 [**Label Encoding of Categorical Data**](#Section94) <br>\n",
    "  9.5 [**Spliting data into train and test data**](#Section95) <br>\n",
    "10. [**Machine learning Execution**](#Section10) <br>\n",
    "  10.1 [**Linear Regression**](#Section101) <br>\n",
    "  10.2 [**Decision Tree Regression**](#Section102) <br>\n",
    "  10.3 [**Random Forest Regression**](#Section103) <br>\n",
    "  10.4 [**Random Forest Regression using RandomSearchCV**](#Section104) <br>\n",
    "11. [**Conclusion**](#Section11) <br>\n",
    "  11.1 [**Comparison between all alogrorithms**](#Section111) <br>\n",
    "  \n",
    "  \n",
    " \n",
    "\n",
    "\n"
   ]
  },
  {
   "cell_type": "markdown",
   "metadata": {
    "colab_type": "text",
    "id": "iACv_4iIoaLi"
   },
   "source": [
    "---\n",
    "<a name = Section1></a>\n",
    "# **1. Introduction**\n",
    "---\n",
    "\n",
    "- This project is to do sales prediction of  Online Sales Data.\n",
    "\n",
    "- The orders contains different types of categories (Office Supplies,Furniture,Technology) based on product type.\n",
    "\n",
    "- This Company is service provider of products for daily needs .\n",
    "\n",
    "- This dataset also contains sales data for the online transaction using their website.\n",
    "\n",
    "<p align=\"center\"><img src=\"https://github.com/sachinvarshney2609/EDA-Project/blob/main/onlinestore.png?raw=true?\"></p>"
   ]
  },
  {
   "cell_type": "markdown",
   "metadata": {
    "colab_type": "text",
    "id": "sOGJAM3AoePy"
   },
   "source": [
    "---\n",
    "<a name = Section2></a>\n",
    "# **2. Problem Statement**\n",
    "---\n",
    "\n",
    "- Here we are going to analyze and conclude few observations for following Problem Statement.\n",
    "- **Problem Statement:**\n",
    "\n",
    "  - With the data provided , we will predict the sales using Machine learning  algorithms\n",
    "  \n",
    "  - We will compare accuracy of different algorithms and conclude which one is providing best predictions\n",
    "\n",
    "\n",
    "  \n",
    "  \n",
    "<p align=\"center\"><img src=\"https://github.com/sachinvarshney2609/EDA-Project/blob/main/How-to-Set-Sales-Goals-in-7-Steps.png?raw=true\"></p>\n",
    "\n",
    "- Following points are in scope of this study.\n",
    "\n",
    "- **Scope of Study:**\n",
    "\n",
    "  - Only 10292 odd products and 1590 customers are included in study.\n",
    "\n",
    "  - The data is from 1st,Jan 2011 to 31st Dec 2014 . \n",
    "\n",
    "  - Regions in scope: Africa, Oceania, EMEA, North, Central Asia, West, North Asia, Central, South, Canada, Southeast Asia,\n",
    "    East, Caribbean."
   ]
  },
  {
   "cell_type": "markdown",
   "metadata": {
    "colab_type": "text",
    "id": "yzSAH3m9pLWi"
   },
   "source": [
    "---\n",
    "<a id = Section3></a>\n",
    "# **3. Importing Libraries**\n",
    "---\n",
    "\n",
    "- Importing all necessary libraries which are needed for Sales prediction using  Machine learning algorithms on this Retail Sales Data ."
   ]
  },
  {
   "cell_type": "markdown",
   "metadata": {},
   "source": [
    "### **Installing Libraries**"
   ]
  },
  {
   "cell_type": "code",
   "execution_count": 5,
   "metadata": {},
   "outputs": [],
   "source": [
    "!pip install -q pandas-profiling"
   ]
  },
  {
   "cell_type": "markdown",
   "metadata": {
    "colab_type": "text",
    "id": "PbyRyjDhpoJj"
   },
   "source": [
    "### **Importing Libraries**\n",
    "\n",
    "- You can headstart with the basic libraries as imported inside the cell below.\n",
    "\n",
    "- If you want to import some additional libraries, feel free to do so.\n"
   ]
  },
  {
   "cell_type": "code",
   "execution_count": 6,
   "metadata": {
    "colab": {},
    "colab_type": "code",
    "id": "5RapekFlpptb"
   },
   "outputs": [],
   "source": [
    "#-------------------------------------------------------------------------------------------------------------------------------\n",
    "import numpy as np                                                  # Importing package numpys (For Numerical Python)\n",
    "#-------------------------------------------------------------------------------------------------------------------------------\n",
    "import pandas as pd                                                 # Importing package pandas (For Panel Data Analysis)\n",
    "from pandas_profiling import ProfileReport                          # Import Pandas Profiling (To generate Univariate Analysis)\n",
    "#-------------------------------------------------------------------------------------------------------------------------------\n",
    "import matplotlib.pyplot as plt                                     # Importing pyplot interface to use matplotlib\n",
    "%matplotlib inline\n",
    "import seaborn as sns                                               # Importing seaborn library for interactive visualization\n",
    "#----------------------------------------------------------------------------------------------------------------------\n",
    "import warnings                                                     # To get rid of all warnings\n",
    "warnings.filterwarnings('ignore')\n",
    "\n",
    "pd.set_option('display.max_columns', 100)                           # Display all dataframe columns in outputs (it has 27 columns, which is wider than the notebook)\n",
    "                                                                    # This sets it up to dispaly with a horizontal scroll instead of hiding the middle columns\n",
    "#----------------------------------------------------------------------------------------------------------------------\n",
    "#-------------- Importing Machine Learning, Normalization and Standardization Libraries -------------------------------\n",
    "#----------------------------------------------------------------------------------------------------------------------#-------------------------------------------------------------------------------------------------------------------------------   \n",
    "from sklearn.linear_model import LinearRegression                   # Importing linear regression algoritm from Sklearn\n",
    "from sklearn.ensemble import RandomForestRegressor\n",
    "from sklearn.preprocessing import StandardScaler                    # Importing Standard Scalar from Sklearn to do standarisation of data\n",
    "from sklearn.preprocessing import LabelEncoder                      # Importing label Encoder from Sklearn to do encoding of categorical data\n",
    "from sklearn import tree                                            # Decision Tree Algorithm\n",
    "\n",
    "#----------------------------------------------------------------------------------------------------------------------\n",
    "from sklearn import metrics                                         # Calculate MAE and RMSE\n",
    "from sklearn.metrics import accuracy_score                          # Accuracy Score\n",
    "from sklearn.metrics import r2_score                                # R2 for regression problem\n",
    "\n",
    "#----------------------------------------------------------------------------------------------------------------------\n",
    "\n"
   ]
  },
  {
   "cell_type": "markdown",
   "metadata": {
    "colab_type": "text",
    "id": "ys9Qb4OlpzvZ"
   },
   "source": [
    "---\n",
    "<a name = Section4></a>\n",
    "# **4. Data Acquisition & Description**\n",
    "---\n",
    "\n",
    "- This section is emphasised on the accquiring the data and obtain some descriptive information out of it.\n"
   ]
  },
  {
   "cell_type": "markdown",
   "metadata": {},
   "source": [
    "### **Data Acquisition**"
   ]
  },
  {
   "cell_type": "code",
   "execution_count": 7,
   "metadata": {
    "colab": {
     "base_uri": "https://localhost:8080/",
     "height": 241
    },
    "colab_type": "code",
    "executionInfo": {
     "elapsed": 2545,
     "status": "ok",
     "timestamp": 1600335417318,
     "user": {
      "displayName": "Mukesh Kumar",
      "photoUrl": "",
      "userId": "01238672520445611335"
     },
     "user_tz": -330
    },
    "id": "aXPrewndpw1T",
    "outputId": "ac37750c-ec12-473e-c6ad-7dc76cb76176"
   },
   "outputs": [
    {
     "name": "stdout",
     "output_type": "stream",
     "text": [
      "Data Shape: (51290, 24)\n"
     ]
    },
    {
     "data": {
      "text/html": [
       "<div>\n",
       "<style scoped>\n",
       "    .dataframe tbody tr th:only-of-type {\n",
       "        vertical-align: middle;\n",
       "    }\n",
       "\n",
       "    .dataframe tbody tr th {\n",
       "        vertical-align: top;\n",
       "    }\n",
       "\n",
       "    .dataframe thead th {\n",
       "        text-align: right;\n",
       "    }\n",
       "</style>\n",
       "<table border=\"1\" class=\"dataframe\">\n",
       "  <thead>\n",
       "    <tr style=\"text-align: right;\">\n",
       "      <th></th>\n",
       "      <th>Row ID</th>\n",
       "      <th>Order ID</th>\n",
       "      <th>Order Date</th>\n",
       "      <th>Ship Date</th>\n",
       "      <th>Ship Mode</th>\n",
       "      <th>Customer ID</th>\n",
       "      <th>Customer Name</th>\n",
       "      <th>Segment</th>\n",
       "      <th>City</th>\n",
       "      <th>State</th>\n",
       "      <th>Country</th>\n",
       "      <th>Postal Code</th>\n",
       "      <th>Market</th>\n",
       "      <th>Region</th>\n",
       "      <th>Product ID</th>\n",
       "      <th>Category</th>\n",
       "      <th>Sub-Category</th>\n",
       "      <th>Product Name</th>\n",
       "      <th>Sales</th>\n",
       "      <th>Quantity</th>\n",
       "      <th>Discount</th>\n",
       "      <th>Profit</th>\n",
       "      <th>Shipping Cost</th>\n",
       "      <th>Order Priority</th>\n",
       "    </tr>\n",
       "  </thead>\n",
       "  <tbody>\n",
       "    <tr>\n",
       "      <th>0</th>\n",
       "      <td>42433</td>\n",
       "      <td>AG-2011-2040</td>\n",
       "      <td>01-01-2011</td>\n",
       "      <td>06-01-2011</td>\n",
       "      <td>Standard Class</td>\n",
       "      <td>TB-11280</td>\n",
       "      <td>Toby Braunhardt</td>\n",
       "      <td>Consumer</td>\n",
       "      <td>Constantine</td>\n",
       "      <td>Constantine</td>\n",
       "      <td>Algeria</td>\n",
       "      <td>NaN</td>\n",
       "      <td>Africa</td>\n",
       "      <td>Africa</td>\n",
       "      <td>OFF-TEN-10000025</td>\n",
       "      <td>Office Supplies</td>\n",
       "      <td>Storage</td>\n",
       "      <td>Tenex Lockers, Blue</td>\n",
       "      <td>408.300</td>\n",
       "      <td>2</td>\n",
       "      <td>0.0</td>\n",
       "      <td>106.140</td>\n",
       "      <td>35.46</td>\n",
       "      <td>Medium</td>\n",
       "    </tr>\n",
       "    <tr>\n",
       "      <th>1</th>\n",
       "      <td>22253</td>\n",
       "      <td>IN-2011-47883</td>\n",
       "      <td>01-01-2011</td>\n",
       "      <td>08-01-2011</td>\n",
       "      <td>Standard Class</td>\n",
       "      <td>JH-15985</td>\n",
       "      <td>Joseph Holt</td>\n",
       "      <td>Consumer</td>\n",
       "      <td>Wagga Wagga</td>\n",
       "      <td>New South Wales</td>\n",
       "      <td>Australia</td>\n",
       "      <td>NaN</td>\n",
       "      <td>APAC</td>\n",
       "      <td>Oceania</td>\n",
       "      <td>OFF-SU-10000618</td>\n",
       "      <td>Office Supplies</td>\n",
       "      <td>Supplies</td>\n",
       "      <td>Acme Trimmer, High Speed</td>\n",
       "      <td>120.366</td>\n",
       "      <td>3</td>\n",
       "      <td>0.1</td>\n",
       "      <td>36.036</td>\n",
       "      <td>9.72</td>\n",
       "      <td>Medium</td>\n",
       "    </tr>\n",
       "    <tr>\n",
       "      <th>2</th>\n",
       "      <td>48883</td>\n",
       "      <td>HU-2011-1220</td>\n",
       "      <td>01-01-2011</td>\n",
       "      <td>05-01-2011</td>\n",
       "      <td>Second Class</td>\n",
       "      <td>AT-735</td>\n",
       "      <td>Annie Thurman</td>\n",
       "      <td>Consumer</td>\n",
       "      <td>Budapest</td>\n",
       "      <td>Budapest</td>\n",
       "      <td>Hungary</td>\n",
       "      <td>NaN</td>\n",
       "      <td>EMEA</td>\n",
       "      <td>EMEA</td>\n",
       "      <td>OFF-TEN-10001585</td>\n",
       "      <td>Office Supplies</td>\n",
       "      <td>Storage</td>\n",
       "      <td>Tenex Box, Single Width</td>\n",
       "      <td>66.120</td>\n",
       "      <td>4</td>\n",
       "      <td>0.0</td>\n",
       "      <td>29.640</td>\n",
       "      <td>8.17</td>\n",
       "      <td>High</td>\n",
       "    </tr>\n",
       "    <tr>\n",
       "      <th>3</th>\n",
       "      <td>11731</td>\n",
       "      <td>IT-2011-3647632</td>\n",
       "      <td>01-01-2011</td>\n",
       "      <td>05-01-2011</td>\n",
       "      <td>Second Class</td>\n",
       "      <td>EM-14140</td>\n",
       "      <td>Eugene Moren</td>\n",
       "      <td>Home Office</td>\n",
       "      <td>Stockholm</td>\n",
       "      <td>Stockholm</td>\n",
       "      <td>Sweden</td>\n",
       "      <td>NaN</td>\n",
       "      <td>EU</td>\n",
       "      <td>North</td>\n",
       "      <td>OFF-PA-10001492</td>\n",
       "      <td>Office Supplies</td>\n",
       "      <td>Paper</td>\n",
       "      <td>Enermax Note Cards, Premium</td>\n",
       "      <td>44.865</td>\n",
       "      <td>3</td>\n",
       "      <td>0.5</td>\n",
       "      <td>-26.055</td>\n",
       "      <td>4.82</td>\n",
       "      <td>High</td>\n",
       "    </tr>\n",
       "    <tr>\n",
       "      <th>4</th>\n",
       "      <td>22255</td>\n",
       "      <td>IN-2011-47883</td>\n",
       "      <td>01-01-2011</td>\n",
       "      <td>08-01-2011</td>\n",
       "      <td>Standard Class</td>\n",
       "      <td>JH-15985</td>\n",
       "      <td>Joseph Holt</td>\n",
       "      <td>Consumer</td>\n",
       "      <td>Wagga Wagga</td>\n",
       "      <td>New South Wales</td>\n",
       "      <td>Australia</td>\n",
       "      <td>NaN</td>\n",
       "      <td>APAC</td>\n",
       "      <td>Oceania</td>\n",
       "      <td>FUR-FU-10003447</td>\n",
       "      <td>Furniture</td>\n",
       "      <td>Furnishings</td>\n",
       "      <td>Eldon Light Bulb, Duo Pack</td>\n",
       "      <td>113.670</td>\n",
       "      <td>5</td>\n",
       "      <td>0.1</td>\n",
       "      <td>37.770</td>\n",
       "      <td>4.70</td>\n",
       "      <td>Medium</td>\n",
       "    </tr>\n",
       "  </tbody>\n",
       "</table>\n",
       "</div>"
      ],
      "text/plain": [
       "   Row ID         Order ID  Order Date   Ship Date       Ship Mode  \\\n",
       "0   42433     AG-2011-2040  01-01-2011  06-01-2011  Standard Class   \n",
       "1   22253    IN-2011-47883  01-01-2011  08-01-2011  Standard Class   \n",
       "2   48883     HU-2011-1220  01-01-2011  05-01-2011    Second Class   \n",
       "3   11731  IT-2011-3647632  01-01-2011  05-01-2011    Second Class   \n",
       "4   22255    IN-2011-47883  01-01-2011  08-01-2011  Standard Class   \n",
       "\n",
       "  Customer ID    Customer Name      Segment         City            State  \\\n",
       "0    TB-11280  Toby Braunhardt     Consumer  Constantine      Constantine   \n",
       "1    JH-15985      Joseph Holt     Consumer  Wagga Wagga  New South Wales   \n",
       "2      AT-735    Annie Thurman     Consumer     Budapest         Budapest   \n",
       "3    EM-14140     Eugene Moren  Home Office    Stockholm        Stockholm   \n",
       "4    JH-15985      Joseph Holt     Consumer  Wagga Wagga  New South Wales   \n",
       "\n",
       "     Country  Postal Code  Market   Region        Product ID         Category  \\\n",
       "0    Algeria          NaN  Africa   Africa  OFF-TEN-10000025  Office Supplies   \n",
       "1  Australia          NaN    APAC  Oceania   OFF-SU-10000618  Office Supplies   \n",
       "2    Hungary          NaN    EMEA     EMEA  OFF-TEN-10001585  Office Supplies   \n",
       "3     Sweden          NaN      EU    North   OFF-PA-10001492  Office Supplies   \n",
       "4  Australia          NaN    APAC  Oceania   FUR-FU-10003447        Furniture   \n",
       "\n",
       "  Sub-Category                 Product Name    Sales  Quantity  Discount  \\\n",
       "0      Storage          Tenex Lockers, Blue  408.300         2       0.0   \n",
       "1     Supplies     Acme Trimmer, High Speed  120.366         3       0.1   \n",
       "2      Storage      Tenex Box, Single Width   66.120         4       0.0   \n",
       "3        Paper  Enermax Note Cards, Premium   44.865         3       0.5   \n",
       "4  Furnishings   Eldon Light Bulb, Duo Pack  113.670         5       0.1   \n",
       "\n",
       "    Profit  Shipping Cost Order Priority  \n",
       "0  106.140          35.46         Medium  \n",
       "1   36.036           9.72         Medium  \n",
       "2   29.640           8.17           High  \n",
       "3  -26.055           4.82           High  \n",
       "4   37.770           4.70         Medium  "
      ]
     },
     "execution_count": 7,
     "metadata": {},
     "output_type": "execute_result"
    }
   ],
   "source": [
    "df_online=pd.read_csv('https://raw.githubusercontent.com/sachinvarshney2609/INSAID/master/superstore_dataset.csv',encoding = \"ISO-8859-1\")\n",
    "#pd.read_csv(\"../input/superstore_dataset2011-2015.csv\", encoding = \"ISO-8859-1\")\n",
    "df_online_backup=df_online.copy()\n",
    "print('Data Shape:', df_online.shape)\n",
    "df_online.head()"
   ]
  },
  {
   "cell_type": "markdown",
   "metadata": {
    "colab_type": "text",
    "id": "lM-hljKpqXsp"
   },
   "source": [
    "### **Data Information**\n",
    "---\n",
    "\n",
    "- This section is emphasised on the accquiring the data and obtain some descriptive information out of it.\n",
    "- You could either scrap the data and then continue, or use a direct source of link (generally preferred in most cases).\n",
    "- You will be working with a direct source of link to head start your work without worrying about anything.\n",
    "- Before going further you must have a good idea about the features of the data set:\n",
    "\n",
    "\n",
    "|Id|Feature|Description|\n",
    "|:--|:--|:--|\n",
    "|01| Order ID        | A Unique code for the order .|\n",
    "|02| Order Date      | Date on which order is placed.|\n",
    "|03| Ship Date       | Date on which order is shipped.|\n",
    "|04| Ship Mode       | Categorial coulmn for each shipping methods : Standard Class, Second Class, First Class,Same Day| \n",
    "|05| Customer ID     | A unique customer id \n",
    "|06| Customer Name   |Customer first and last name | \n",
    "|07| Segment         | Customer segment : Consumer,Home Office, Corporate.|\n",
    "|08| City            | From which city order is placed .|\n",
    "|09| State           | From which state order is placed .| \n",
    "|10| Country         | From which country  order is placed .|\n",
    "|11| Postal Code     | Postal code of customer residence |\n",
    "|12| Market          | Region : Africa', 'APAC', 'EMEA', 'EU', 'US', 'LATAM', 'Canada| \n",
    "|13| Region          | From which regions order is placed .|\n",
    "|14| Product ID      | A unique code for the product.|\n",
    "|15| Category        | A categorical column to explain category of the product :Office Supplies, Furniture, Technolog |\n",
    "|16| Sub-Category    | A categorical column to  explain subcategory of the product : Storage, Supplies, 'Paper' etc |\n",
    "|17| Product Name    | Product details |\n",
    "|18| Sales           | The amount of sales for an order.| \n",
    "|19| Quantity        | No of units per order .|\n",
    "|20|  Discount       | The amount of discount given for an order .|\n",
    "|21| Profit          | The amount of profit per order .| \n",
    "|22| Shipping Cost   | The amount of shipping cost incurred per order | \n",
    "|23| Order Priority  | A cateegorial column to explain priority of an order : Medium', 'High', 'Critical', 'Low' |"
   ]
  },
  {
   "cell_type": "markdown",
   "metadata": {},
   "source": [
    "Total 51290 rows and 24 columns will be analyzed in this study."
   ]
  },
  {
   "cell_type": "code",
   "execution_count": 8,
   "metadata": {
    "colab": {},
    "colab_type": "code",
    "id": "aPYZy6voqXc4",
    "scrolled": true
   },
   "outputs": [
    {
     "name": "stdout",
     "output_type": "stream",
     "text": [
      "<class 'pandas.core.frame.DataFrame'>\n",
      "RangeIndex: 51290 entries, 0 to 51289\n",
      "Data columns (total 24 columns):\n",
      " #   Column          Non-Null Count  Dtype  \n",
      "---  ------          --------------  -----  \n",
      " 0   Row ID          51290 non-null  int64  \n",
      " 1   Order ID        51290 non-null  object \n",
      " 2   Order Date      51290 non-null  object \n",
      " 3   Ship Date       51290 non-null  object \n",
      " 4   Ship Mode       51290 non-null  object \n",
      " 5   Customer ID     51290 non-null  object \n",
      " 6   Customer Name   51290 non-null  object \n",
      " 7   Segment         51290 non-null  object \n",
      " 8   City            51290 non-null  object \n",
      " 9   State           51290 non-null  object \n",
      " 10  Country         51290 non-null  object \n",
      " 11  Postal Code     9994 non-null   float64\n",
      " 12  Market          51290 non-null  object \n",
      " 13  Region          51290 non-null  object \n",
      " 14  Product ID      51290 non-null  object \n",
      " 15  Category        51290 non-null  object \n",
      " 16  Sub-Category    51290 non-null  object \n",
      " 17  Product Name    51290 non-null  object \n",
      " 18  Sales           51290 non-null  float64\n",
      " 19  Quantity        51290 non-null  int64  \n",
      " 20  Discount        51290 non-null  float64\n",
      " 21  Profit          51290 non-null  float64\n",
      " 22  Shipping Cost   51290 non-null  float64\n",
      " 23  Order Priority  51290 non-null  object \n",
      "dtypes: float64(5), int64(2), object(17)\n",
      "memory usage: 9.4+ MB\n"
     ]
    }
   ],
   "source": [
    "df_online.info()"
   ]
  },
  {
   "cell_type": "code",
   "execution_count": 9,
   "metadata": {
    "scrolled": true
   },
   "outputs": [
    {
     "data": {
      "text/plain": [
       "10292"
      ]
     },
     "execution_count": 9,
     "metadata": {},
     "output_type": "execute_result"
    }
   ],
   "source": [
    "df_online['Product ID'].nunique()"
   ]
  },
  {
   "cell_type": "markdown",
   "metadata": {},
   "source": [
    "Study will be conducted on orderes placed for 10292 unique product codes."
   ]
  },
  {
   "cell_type": "code",
   "execution_count": 10,
   "metadata": {
    "colab": {},
    "colab_type": "code",
    "id": "VEHxAq8Zqcgo",
    "scrolled": true
   },
   "outputs": [
    {
     "data": {
      "text/html": [
       "<div>\n",
       "<style scoped>\n",
       "    .dataframe tbody tr th:only-of-type {\n",
       "        vertical-align: middle;\n",
       "    }\n",
       "\n",
       "    .dataframe tbody tr th {\n",
       "        vertical-align: top;\n",
       "    }\n",
       "\n",
       "    .dataframe thead th {\n",
       "        text-align: right;\n",
       "    }\n",
       "</style>\n",
       "<table border=\"1\" class=\"dataframe\">\n",
       "  <thead>\n",
       "    <tr style=\"text-align: right;\">\n",
       "      <th></th>\n",
       "      <th>Row ID</th>\n",
       "      <th>Postal Code</th>\n",
       "      <th>Sales</th>\n",
       "      <th>Quantity</th>\n",
       "      <th>Discount</th>\n",
       "      <th>Profit</th>\n",
       "      <th>Shipping Cost</th>\n",
       "    </tr>\n",
       "  </thead>\n",
       "  <tbody>\n",
       "    <tr>\n",
       "      <th>count</th>\n",
       "      <td>51290.00</td>\n",
       "      <td>9994.00</td>\n",
       "      <td>51290.00</td>\n",
       "      <td>51290.00</td>\n",
       "      <td>51290.00</td>\n",
       "      <td>51290.00</td>\n",
       "      <td>51290.00</td>\n",
       "    </tr>\n",
       "    <tr>\n",
       "      <th>mean</th>\n",
       "      <td>25645.50</td>\n",
       "      <td>55190.38</td>\n",
       "      <td>246.49</td>\n",
       "      <td>3.48</td>\n",
       "      <td>0.14</td>\n",
       "      <td>28.61</td>\n",
       "      <td>26.38</td>\n",
       "    </tr>\n",
       "    <tr>\n",
       "      <th>std</th>\n",
       "      <td>14806.29</td>\n",
       "      <td>32063.69</td>\n",
       "      <td>487.57</td>\n",
       "      <td>2.28</td>\n",
       "      <td>0.21</td>\n",
       "      <td>174.34</td>\n",
       "      <td>57.30</td>\n",
       "    </tr>\n",
       "    <tr>\n",
       "      <th>min</th>\n",
       "      <td>1.00</td>\n",
       "      <td>1040.00</td>\n",
       "      <td>0.44</td>\n",
       "      <td>1.00</td>\n",
       "      <td>0.00</td>\n",
       "      <td>-6599.98</td>\n",
       "      <td>0.00</td>\n",
       "    </tr>\n",
       "    <tr>\n",
       "      <th>25%</th>\n",
       "      <td>12823.25</td>\n",
       "      <td>23223.00</td>\n",
       "      <td>30.76</td>\n",
       "      <td>2.00</td>\n",
       "      <td>0.00</td>\n",
       "      <td>0.00</td>\n",
       "      <td>2.61</td>\n",
       "    </tr>\n",
       "    <tr>\n",
       "      <th>50%</th>\n",
       "      <td>25645.50</td>\n",
       "      <td>56430.50</td>\n",
       "      <td>85.05</td>\n",
       "      <td>3.00</td>\n",
       "      <td>0.00</td>\n",
       "      <td>9.24</td>\n",
       "      <td>7.79</td>\n",
       "    </tr>\n",
       "    <tr>\n",
       "      <th>75%</th>\n",
       "      <td>38467.75</td>\n",
       "      <td>90008.00</td>\n",
       "      <td>251.05</td>\n",
       "      <td>5.00</td>\n",
       "      <td>0.20</td>\n",
       "      <td>36.81</td>\n",
       "      <td>24.45</td>\n",
       "    </tr>\n",
       "    <tr>\n",
       "      <th>max</th>\n",
       "      <td>51290.00</td>\n",
       "      <td>99301.00</td>\n",
       "      <td>22638.48</td>\n",
       "      <td>14.00</td>\n",
       "      <td>0.85</td>\n",
       "      <td>8399.98</td>\n",
       "      <td>933.57</td>\n",
       "    </tr>\n",
       "  </tbody>\n",
       "</table>\n",
       "</div>"
      ],
      "text/plain": [
       "         Row ID  Postal Code     Sales  Quantity  Discount    Profit  \\\n",
       "count  51290.00      9994.00  51290.00  51290.00  51290.00  51290.00   \n",
       "mean   25645.50     55190.38    246.49      3.48      0.14     28.61   \n",
       "std    14806.29     32063.69    487.57      2.28      0.21    174.34   \n",
       "min        1.00      1040.00      0.44      1.00      0.00  -6599.98   \n",
       "25%    12823.25     23223.00     30.76      2.00      0.00      0.00   \n",
       "50%    25645.50     56430.50     85.05      3.00      0.00      9.24   \n",
       "75%    38467.75     90008.00    251.05      5.00      0.20     36.81   \n",
       "max    51290.00     99301.00  22638.48     14.00      0.85   8399.98   \n",
       "\n",
       "       Shipping Cost  \n",
       "count       51290.00  \n",
       "mean           26.38  \n",
       "std            57.30  \n",
       "min             0.00  \n",
       "25%             2.61  \n",
       "50%             7.79  \n",
       "75%            24.45  \n",
       "max           933.57  "
      ]
     },
     "execution_count": 10,
     "metadata": {},
     "output_type": "execute_result"
    }
   ],
   "source": [
    "df_online.describe().round(2)"
   ]
  },
  {
   "cell_type": "markdown",
   "metadata": {
    "colab_type": "text",
    "id": "efZ8svauqc55"
   },
   "source": [
    "---\n",
    "<a name = Section5></a>\n",
    "# **5. Data Pre-Profiling**\n",
    "---\n",
    "\n",
    "- This section is emphasised on getting a report about the data.\n",
    "\n",
    "- You need to perform pandas profiling and get some observations out of it..."
   ]
  },
  {
   "cell_type": "code",
   "execution_count": 11,
   "metadata": {
    "scrolled": false
   },
   "outputs": [
    {
     "data": {
      "text/plain": [
       "Row ID                0\n",
       "Order ID              0\n",
       "Order Date            0\n",
       "Ship Date             0\n",
       "Ship Mode             0\n",
       "Customer ID           0\n",
       "Customer Name         0\n",
       "Segment               0\n",
       "City                  0\n",
       "State                 0\n",
       "Country               0\n",
       "Postal Code       41296\n",
       "Market                0\n",
       "Region                0\n",
       "Product ID            0\n",
       "Category              0\n",
       "Sub-Category          0\n",
       "Product Name          0\n",
       "Sales                 0\n",
       "Quantity              0\n",
       "Discount              0\n",
       "Profit                0\n",
       "Shipping Cost         0\n",
       "Order Priority        0\n",
       "dtype: int64"
      ]
     },
     "execution_count": 11,
     "metadata": {},
     "output_type": "execute_result"
    }
   ],
   "source": [
    "df_online.isnull().sum()"
   ]
  },
  {
   "cell_type": "markdown",
   "metadata": {},
   "source": [
    "There are 41296 null entries for Postal Code.<br>\n"
   ]
  },
  {
   "cell_type": "code",
   "execution_count": 12,
   "metadata": {
    "scrolled": false
   },
   "outputs": [
    {
     "data": {
      "text/html": [
       "<div>\n",
       "<style scoped>\n",
       "    .dataframe tbody tr th:only-of-type {\n",
       "        vertical-align: middle;\n",
       "    }\n",
       "\n",
       "    .dataframe tbody tr th {\n",
       "        vertical-align: top;\n",
       "    }\n",
       "\n",
       "    .dataframe thead th {\n",
       "        text-align: right;\n",
       "    }\n",
       "</style>\n",
       "<table border=\"1\" class=\"dataframe\">\n",
       "  <thead>\n",
       "    <tr style=\"text-align: right;\">\n",
       "      <th></th>\n",
       "      <th>Row ID</th>\n",
       "      <th>Order ID</th>\n",
       "      <th>Order Date</th>\n",
       "      <th>Ship Date</th>\n",
       "      <th>Ship Mode</th>\n",
       "      <th>Customer ID</th>\n",
       "      <th>Customer Name</th>\n",
       "      <th>Segment</th>\n",
       "      <th>City</th>\n",
       "      <th>State</th>\n",
       "      <th>Country</th>\n",
       "      <th>Postal Code</th>\n",
       "      <th>Market</th>\n",
       "      <th>Region</th>\n",
       "      <th>Product ID</th>\n",
       "      <th>Category</th>\n",
       "      <th>Sub-Category</th>\n",
       "      <th>Product Name</th>\n",
       "      <th>Sales</th>\n",
       "      <th>Quantity</th>\n",
       "      <th>Discount</th>\n",
       "      <th>Profit</th>\n",
       "      <th>Shipping Cost</th>\n",
       "      <th>Order Priority</th>\n",
       "    </tr>\n",
       "  </thead>\n",
       "  <tbody>\n",
       "    <tr>\n",
       "      <th>0</th>\n",
       "      <td>42433</td>\n",
       "      <td>AG-2011-2040</td>\n",
       "      <td>01-01-2011</td>\n",
       "      <td>06-01-2011</td>\n",
       "      <td>Standard Class</td>\n",
       "      <td>TB-11280</td>\n",
       "      <td>Toby Braunhardt</td>\n",
       "      <td>Consumer</td>\n",
       "      <td>Constantine</td>\n",
       "      <td>Constantine</td>\n",
       "      <td>Algeria</td>\n",
       "      <td>NaN</td>\n",
       "      <td>Africa</td>\n",
       "      <td>Africa</td>\n",
       "      <td>OFF-TEN-10000025</td>\n",
       "      <td>Office Supplies</td>\n",
       "      <td>Storage</td>\n",
       "      <td>Tenex Lockers, Blue</td>\n",
       "      <td>408.300</td>\n",
       "      <td>2</td>\n",
       "      <td>0.0</td>\n",
       "      <td>106.140</td>\n",
       "      <td>35.46</td>\n",
       "      <td>Medium</td>\n",
       "    </tr>\n",
       "    <tr>\n",
       "      <th>1</th>\n",
       "      <td>22253</td>\n",
       "      <td>IN-2011-47883</td>\n",
       "      <td>01-01-2011</td>\n",
       "      <td>08-01-2011</td>\n",
       "      <td>Standard Class</td>\n",
       "      <td>JH-15985</td>\n",
       "      <td>Joseph Holt</td>\n",
       "      <td>Consumer</td>\n",
       "      <td>Wagga Wagga</td>\n",
       "      <td>New South Wales</td>\n",
       "      <td>Australia</td>\n",
       "      <td>NaN</td>\n",
       "      <td>APAC</td>\n",
       "      <td>Oceania</td>\n",
       "      <td>OFF-SU-10000618</td>\n",
       "      <td>Office Supplies</td>\n",
       "      <td>Supplies</td>\n",
       "      <td>Acme Trimmer, High Speed</td>\n",
       "      <td>120.366</td>\n",
       "      <td>3</td>\n",
       "      <td>0.1</td>\n",
       "      <td>36.036</td>\n",
       "      <td>9.72</td>\n",
       "      <td>Medium</td>\n",
       "    </tr>\n",
       "    <tr>\n",
       "      <th>2</th>\n",
       "      <td>48883</td>\n",
       "      <td>HU-2011-1220</td>\n",
       "      <td>01-01-2011</td>\n",
       "      <td>05-01-2011</td>\n",
       "      <td>Second Class</td>\n",
       "      <td>AT-735</td>\n",
       "      <td>Annie Thurman</td>\n",
       "      <td>Consumer</td>\n",
       "      <td>Budapest</td>\n",
       "      <td>Budapest</td>\n",
       "      <td>Hungary</td>\n",
       "      <td>NaN</td>\n",
       "      <td>EMEA</td>\n",
       "      <td>EMEA</td>\n",
       "      <td>OFF-TEN-10001585</td>\n",
       "      <td>Office Supplies</td>\n",
       "      <td>Storage</td>\n",
       "      <td>Tenex Box, Single Width</td>\n",
       "      <td>66.120</td>\n",
       "      <td>4</td>\n",
       "      <td>0.0</td>\n",
       "      <td>29.640</td>\n",
       "      <td>8.17</td>\n",
       "      <td>High</td>\n",
       "    </tr>\n",
       "    <tr>\n",
       "      <th>3</th>\n",
       "      <td>11731</td>\n",
       "      <td>IT-2011-3647632</td>\n",
       "      <td>01-01-2011</td>\n",
       "      <td>05-01-2011</td>\n",
       "      <td>Second Class</td>\n",
       "      <td>EM-14140</td>\n",
       "      <td>Eugene Moren</td>\n",
       "      <td>Home Office</td>\n",
       "      <td>Stockholm</td>\n",
       "      <td>Stockholm</td>\n",
       "      <td>Sweden</td>\n",
       "      <td>NaN</td>\n",
       "      <td>EU</td>\n",
       "      <td>North</td>\n",
       "      <td>OFF-PA-10001492</td>\n",
       "      <td>Office Supplies</td>\n",
       "      <td>Paper</td>\n",
       "      <td>Enermax Note Cards, Premium</td>\n",
       "      <td>44.865</td>\n",
       "      <td>3</td>\n",
       "      <td>0.5</td>\n",
       "      <td>-26.055</td>\n",
       "      <td>4.82</td>\n",
       "      <td>High</td>\n",
       "    </tr>\n",
       "    <tr>\n",
       "      <th>4</th>\n",
       "      <td>22255</td>\n",
       "      <td>IN-2011-47883</td>\n",
       "      <td>01-01-2011</td>\n",
       "      <td>08-01-2011</td>\n",
       "      <td>Standard Class</td>\n",
       "      <td>JH-15985</td>\n",
       "      <td>Joseph Holt</td>\n",
       "      <td>Consumer</td>\n",
       "      <td>Wagga Wagga</td>\n",
       "      <td>New South Wales</td>\n",
       "      <td>Australia</td>\n",
       "      <td>NaN</td>\n",
       "      <td>APAC</td>\n",
       "      <td>Oceania</td>\n",
       "      <td>FUR-FU-10003447</td>\n",
       "      <td>Furniture</td>\n",
       "      <td>Furnishings</td>\n",
       "      <td>Eldon Light Bulb, Duo Pack</td>\n",
       "      <td>113.670</td>\n",
       "      <td>5</td>\n",
       "      <td>0.1</td>\n",
       "      <td>37.770</td>\n",
       "      <td>4.70</td>\n",
       "      <td>Medium</td>\n",
       "    </tr>\n",
       "    <tr>\n",
       "      <th>...</th>\n",
       "      <td>...</td>\n",
       "      <td>...</td>\n",
       "      <td>...</td>\n",
       "      <td>...</td>\n",
       "      <td>...</td>\n",
       "      <td>...</td>\n",
       "      <td>...</td>\n",
       "      <td>...</td>\n",
       "      <td>...</td>\n",
       "      <td>...</td>\n",
       "      <td>...</td>\n",
       "      <td>...</td>\n",
       "      <td>...</td>\n",
       "      <td>...</td>\n",
       "      <td>...</td>\n",
       "      <td>...</td>\n",
       "      <td>...</td>\n",
       "      <td>...</td>\n",
       "      <td>...</td>\n",
       "      <td>...</td>\n",
       "      <td>...</td>\n",
       "      <td>...</td>\n",
       "      <td>...</td>\n",
       "      <td>...</td>\n",
       "    </tr>\n",
       "    <tr>\n",
       "      <th>51283</th>\n",
       "      <td>27700</td>\n",
       "      <td>IN-2014-23754</td>\n",
       "      <td>31-12-2014</td>\n",
       "      <td>07-01-2015</td>\n",
       "      <td>Standard Class</td>\n",
       "      <td>KM-16225</td>\n",
       "      <td>Kalyca Meade</td>\n",
       "      <td>Corporate</td>\n",
       "      <td>Shantou</td>\n",
       "      <td>Guangdong</td>\n",
       "      <td>China</td>\n",
       "      <td>NaN</td>\n",
       "      <td>APAC</td>\n",
       "      <td>North Asia</td>\n",
       "      <td>OFF-PA-10004727</td>\n",
       "      <td>Office Supplies</td>\n",
       "      <td>Paper</td>\n",
       "      <td>Eaton Note Cards, 8.5 x 11</td>\n",
       "      <td>79.470</td>\n",
       "      <td>3</td>\n",
       "      <td>0.0</td>\n",
       "      <td>25.380</td>\n",
       "      <td>1.41</td>\n",
       "      <td>Medium</td>\n",
       "    </tr>\n",
       "    <tr>\n",
       "      <th>51284</th>\n",
       "      <td>2143</td>\n",
       "      <td>MX-2014-108574</td>\n",
       "      <td>31-12-2014</td>\n",
       "      <td>04-01-2015</td>\n",
       "      <td>Standard Class</td>\n",
       "      <td>JB-16045</td>\n",
       "      <td>Julia Barnett</td>\n",
       "      <td>Home Office</td>\n",
       "      <td>Reynosa</td>\n",
       "      <td>Tamaulipas</td>\n",
       "      <td>Mexico</td>\n",
       "      <td>NaN</td>\n",
       "      <td>LATAM</td>\n",
       "      <td>North</td>\n",
       "      <td>OFF-LA-10004969</td>\n",
       "      <td>Office Supplies</td>\n",
       "      <td>Labels</td>\n",
       "      <td>Novimex Legal Exhibit Labels, Adjustable</td>\n",
       "      <td>16.740</td>\n",
       "      <td>3</td>\n",
       "      <td>0.0</td>\n",
       "      <td>0.660</td>\n",
       "      <td>1.32</td>\n",
       "      <td>Medium</td>\n",
       "    </tr>\n",
       "    <tr>\n",
       "      <th>51286</th>\n",
       "      <td>47594</td>\n",
       "      <td>MO-2014-2560</td>\n",
       "      <td>31-12-2014</td>\n",
       "      <td>05-01-2015</td>\n",
       "      <td>Standard Class</td>\n",
       "      <td>LP-7095</td>\n",
       "      <td>Liz Preis</td>\n",
       "      <td>Consumer</td>\n",
       "      <td>Agadir</td>\n",
       "      <td>Souss-Massa-Draâ</td>\n",
       "      <td>Morocco</td>\n",
       "      <td>NaN</td>\n",
       "      <td>Africa</td>\n",
       "      <td>Africa</td>\n",
       "      <td>OFF-WIL-10001069</td>\n",
       "      <td>Office Supplies</td>\n",
       "      <td>Binders</td>\n",
       "      <td>Wilson Jones Hole Reinforcements, Clear</td>\n",
       "      <td>3.990</td>\n",
       "      <td>1</td>\n",
       "      <td>0.0</td>\n",
       "      <td>0.420</td>\n",
       "      <td>0.49</td>\n",
       "      <td>Medium</td>\n",
       "    </tr>\n",
       "    <tr>\n",
       "      <th>51287</th>\n",
       "      <td>8857</td>\n",
       "      <td>MX-2014-110527</td>\n",
       "      <td>31-12-2014</td>\n",
       "      <td>02-01-2015</td>\n",
       "      <td>Second Class</td>\n",
       "      <td>CM-12190</td>\n",
       "      <td>Charlotte Melton</td>\n",
       "      <td>Consumer</td>\n",
       "      <td>Managua</td>\n",
       "      <td>Managua</td>\n",
       "      <td>Nicaragua</td>\n",
       "      <td>NaN</td>\n",
       "      <td>LATAM</td>\n",
       "      <td>Central</td>\n",
       "      <td>OFF-LA-10004182</td>\n",
       "      <td>Office Supplies</td>\n",
       "      <td>Labels</td>\n",
       "      <td>Hon Color Coded Labels, 5000 Label Set</td>\n",
       "      <td>26.400</td>\n",
       "      <td>3</td>\n",
       "      <td>0.0</td>\n",
       "      <td>12.360</td>\n",
       "      <td>0.35</td>\n",
       "      <td>Medium</td>\n",
       "    </tr>\n",
       "    <tr>\n",
       "      <th>51288</th>\n",
       "      <td>6852</td>\n",
       "      <td>MX-2014-114783</td>\n",
       "      <td>31-12-2014</td>\n",
       "      <td>06-01-2015</td>\n",
       "      <td>Standard Class</td>\n",
       "      <td>TD-20995</td>\n",
       "      <td>Tamara Dahlen</td>\n",
       "      <td>Consumer</td>\n",
       "      <td>Juárez</td>\n",
       "      <td>Chihuahua</td>\n",
       "      <td>Mexico</td>\n",
       "      <td>NaN</td>\n",
       "      <td>LATAM</td>\n",
       "      <td>North</td>\n",
       "      <td>OFF-LA-10000413</td>\n",
       "      <td>Office Supplies</td>\n",
       "      <td>Labels</td>\n",
       "      <td>Hon Legal Exhibit Labels, Alphabetical</td>\n",
       "      <td>7.120</td>\n",
       "      <td>1</td>\n",
       "      <td>0.0</td>\n",
       "      <td>0.560</td>\n",
       "      <td>0.20</td>\n",
       "      <td>Medium</td>\n",
       "    </tr>\n",
       "  </tbody>\n",
       "</table>\n",
       "<p>41296 rows × 24 columns</p>\n",
       "</div>"
      ],
      "text/plain": [
       "       Row ID         Order ID  Order Date   Ship Date       Ship Mode  \\\n",
       "0       42433     AG-2011-2040  01-01-2011  06-01-2011  Standard Class   \n",
       "1       22253    IN-2011-47883  01-01-2011  08-01-2011  Standard Class   \n",
       "2       48883     HU-2011-1220  01-01-2011  05-01-2011    Second Class   \n",
       "3       11731  IT-2011-3647632  01-01-2011  05-01-2011    Second Class   \n",
       "4       22255    IN-2011-47883  01-01-2011  08-01-2011  Standard Class   \n",
       "...       ...              ...         ...         ...             ...   \n",
       "51283   27700    IN-2014-23754  31-12-2014  07-01-2015  Standard Class   \n",
       "51284    2143   MX-2014-108574  31-12-2014  04-01-2015  Standard Class   \n",
       "51286   47594     MO-2014-2560  31-12-2014  05-01-2015  Standard Class   \n",
       "51287    8857   MX-2014-110527  31-12-2014  02-01-2015    Second Class   \n",
       "51288    6852   MX-2014-114783  31-12-2014  06-01-2015  Standard Class   \n",
       "\n",
       "      Customer ID     Customer Name      Segment         City  \\\n",
       "0        TB-11280   Toby Braunhardt     Consumer  Constantine   \n",
       "1        JH-15985       Joseph Holt     Consumer  Wagga Wagga   \n",
       "2          AT-735     Annie Thurman     Consumer     Budapest   \n",
       "3        EM-14140      Eugene Moren  Home Office    Stockholm   \n",
       "4        JH-15985       Joseph Holt     Consumer  Wagga Wagga   \n",
       "...           ...               ...          ...          ...   \n",
       "51283    KM-16225      Kalyca Meade    Corporate      Shantou   \n",
       "51284    JB-16045     Julia Barnett  Home Office      Reynosa   \n",
       "51286     LP-7095         Liz Preis     Consumer       Agadir   \n",
       "51287    CM-12190  Charlotte Melton     Consumer      Managua   \n",
       "51288    TD-20995     Tamara Dahlen     Consumer       Juárez   \n",
       "\n",
       "                  State    Country  Postal Code  Market      Region  \\\n",
       "0           Constantine    Algeria          NaN  Africa      Africa   \n",
       "1       New South Wales  Australia          NaN    APAC     Oceania   \n",
       "2              Budapest    Hungary          NaN    EMEA        EMEA   \n",
       "3             Stockholm     Sweden          NaN      EU       North   \n",
       "4       New South Wales  Australia          NaN    APAC     Oceania   \n",
       "...                 ...        ...          ...     ...         ...   \n",
       "51283         Guangdong      China          NaN    APAC  North Asia   \n",
       "51284        Tamaulipas     Mexico          NaN   LATAM       North   \n",
       "51286  Souss-Massa-Draâ    Morocco          NaN  Africa      Africa   \n",
       "51287           Managua  Nicaragua          NaN   LATAM     Central   \n",
       "51288         Chihuahua     Mexico          NaN   LATAM       North   \n",
       "\n",
       "             Product ID         Category Sub-Category  \\\n",
       "0      OFF-TEN-10000025  Office Supplies      Storage   \n",
       "1       OFF-SU-10000618  Office Supplies     Supplies   \n",
       "2      OFF-TEN-10001585  Office Supplies      Storage   \n",
       "3       OFF-PA-10001492  Office Supplies        Paper   \n",
       "4       FUR-FU-10003447        Furniture  Furnishings   \n",
       "...                 ...              ...          ...   \n",
       "51283   OFF-PA-10004727  Office Supplies        Paper   \n",
       "51284   OFF-LA-10004969  Office Supplies       Labels   \n",
       "51286  OFF-WIL-10001069  Office Supplies      Binders   \n",
       "51287   OFF-LA-10004182  Office Supplies       Labels   \n",
       "51288   OFF-LA-10000413  Office Supplies       Labels   \n",
       "\n",
       "                                   Product Name    Sales  Quantity  Discount  \\\n",
       "0                           Tenex Lockers, Blue  408.300         2       0.0   \n",
       "1                      Acme Trimmer, High Speed  120.366         3       0.1   \n",
       "2                       Tenex Box, Single Width   66.120         4       0.0   \n",
       "3                   Enermax Note Cards, Premium   44.865         3       0.5   \n",
       "4                    Eldon Light Bulb, Duo Pack  113.670         5       0.1   \n",
       "...                                         ...      ...       ...       ...   \n",
       "51283                Eaton Note Cards, 8.5 x 11   79.470         3       0.0   \n",
       "51284  Novimex Legal Exhibit Labels, Adjustable   16.740         3       0.0   \n",
       "51286   Wilson Jones Hole Reinforcements, Clear    3.990         1       0.0   \n",
       "51287    Hon Color Coded Labels, 5000 Label Set   26.400         3       0.0   \n",
       "51288    Hon Legal Exhibit Labels, Alphabetical    7.120         1       0.0   \n",
       "\n",
       "        Profit  Shipping Cost Order Priority  \n",
       "0      106.140          35.46         Medium  \n",
       "1       36.036           9.72         Medium  \n",
       "2       29.640           8.17           High  \n",
       "3      -26.055           4.82           High  \n",
       "4       37.770           4.70         Medium  \n",
       "...        ...            ...            ...  \n",
       "51283   25.380           1.41         Medium  \n",
       "51284    0.660           1.32         Medium  \n",
       "51286    0.420           0.49         Medium  \n",
       "51287   12.360           0.35         Medium  \n",
       "51288    0.560           0.20         Medium  \n",
       "\n",
       "[41296 rows x 24 columns]"
      ]
     },
     "execution_count": 12,
     "metadata": {},
     "output_type": "execute_result"
    }
   ],
   "source": [
    "df_online[df_online['Postal Code'].isnull()]"
   ]
  },
  {
   "cell_type": "code",
   "execution_count": 13,
   "metadata": {},
   "outputs": [
    {
     "data": {
      "text/html": [
       "<div>\n",
       "<style scoped>\n",
       "    .dataframe tbody tr th:only-of-type {\n",
       "        vertical-align: middle;\n",
       "    }\n",
       "\n",
       "    .dataframe tbody tr th {\n",
       "        vertical-align: top;\n",
       "    }\n",
       "\n",
       "    .dataframe thead th {\n",
       "        text-align: right;\n",
       "    }\n",
       "</style>\n",
       "<table border=\"1\" class=\"dataframe\">\n",
       "  <thead>\n",
       "    <tr style=\"text-align: right;\">\n",
       "      <th></th>\n",
       "      <th>Row ID</th>\n",
       "      <th>Order ID</th>\n",
       "      <th>Order Date</th>\n",
       "      <th>Ship Date</th>\n",
       "      <th>Ship Mode</th>\n",
       "      <th>Customer ID</th>\n",
       "      <th>Customer Name</th>\n",
       "      <th>Segment</th>\n",
       "      <th>City</th>\n",
       "      <th>State</th>\n",
       "      <th>Country</th>\n",
       "      <th>Postal Code</th>\n",
       "      <th>Market</th>\n",
       "      <th>Region</th>\n",
       "      <th>Product ID</th>\n",
       "      <th>Category</th>\n",
       "      <th>Sub-Category</th>\n",
       "      <th>Product Name</th>\n",
       "      <th>Sales</th>\n",
       "      <th>Quantity</th>\n",
       "      <th>Discount</th>\n",
       "      <th>Profit</th>\n",
       "      <th>Shipping Cost</th>\n",
       "      <th>Order Priority</th>\n",
       "    </tr>\n",
       "  </thead>\n",
       "  <tbody>\n",
       "    <tr>\n",
       "      <th>0</th>\n",
       "      <td>42433</td>\n",
       "      <td>AG-2011-2040</td>\n",
       "      <td>01-01-2011</td>\n",
       "      <td>06-01-2011</td>\n",
       "      <td>Standard Class</td>\n",
       "      <td>TB-11280</td>\n",
       "      <td>Toby Braunhardt</td>\n",
       "      <td>Consumer</td>\n",
       "      <td>Constantine</td>\n",
       "      <td>Constantine</td>\n",
       "      <td>Algeria</td>\n",
       "      <td>NaN</td>\n",
       "      <td>Africa</td>\n",
       "      <td>Africa</td>\n",
       "      <td>OFF-TEN-10000025</td>\n",
       "      <td>Office Supplies</td>\n",
       "      <td>Storage</td>\n",
       "      <td>Tenex Lockers, Blue</td>\n",
       "      <td>408.300</td>\n",
       "      <td>2</td>\n",
       "      <td>0.0</td>\n",
       "      <td>106.1400</td>\n",
       "      <td>35.46</td>\n",
       "      <td>Medium</td>\n",
       "    </tr>\n",
       "    <tr>\n",
       "      <th>1</th>\n",
       "      <td>22253</td>\n",
       "      <td>IN-2011-47883</td>\n",
       "      <td>01-01-2011</td>\n",
       "      <td>08-01-2011</td>\n",
       "      <td>Standard Class</td>\n",
       "      <td>JH-15985</td>\n",
       "      <td>Joseph Holt</td>\n",
       "      <td>Consumer</td>\n",
       "      <td>Wagga Wagga</td>\n",
       "      <td>New South Wales</td>\n",
       "      <td>Australia</td>\n",
       "      <td>NaN</td>\n",
       "      <td>APAC</td>\n",
       "      <td>Oceania</td>\n",
       "      <td>OFF-SU-10000618</td>\n",
       "      <td>Office Supplies</td>\n",
       "      <td>Supplies</td>\n",
       "      <td>Acme Trimmer, High Speed</td>\n",
       "      <td>120.366</td>\n",
       "      <td>3</td>\n",
       "      <td>0.1</td>\n",
       "      <td>36.0360</td>\n",
       "      <td>9.72</td>\n",
       "      <td>Medium</td>\n",
       "    </tr>\n",
       "    <tr>\n",
       "      <th>2</th>\n",
       "      <td>48883</td>\n",
       "      <td>HU-2011-1220</td>\n",
       "      <td>01-01-2011</td>\n",
       "      <td>05-01-2011</td>\n",
       "      <td>Second Class</td>\n",
       "      <td>AT-735</td>\n",
       "      <td>Annie Thurman</td>\n",
       "      <td>Consumer</td>\n",
       "      <td>Budapest</td>\n",
       "      <td>Budapest</td>\n",
       "      <td>Hungary</td>\n",
       "      <td>NaN</td>\n",
       "      <td>EMEA</td>\n",
       "      <td>EMEA</td>\n",
       "      <td>OFF-TEN-10001585</td>\n",
       "      <td>Office Supplies</td>\n",
       "      <td>Storage</td>\n",
       "      <td>Tenex Box, Single Width</td>\n",
       "      <td>66.120</td>\n",
       "      <td>4</td>\n",
       "      <td>0.0</td>\n",
       "      <td>29.6400</td>\n",
       "      <td>8.17</td>\n",
       "      <td>High</td>\n",
       "    </tr>\n",
       "    <tr>\n",
       "      <th>3</th>\n",
       "      <td>11731</td>\n",
       "      <td>IT-2011-3647632</td>\n",
       "      <td>01-01-2011</td>\n",
       "      <td>05-01-2011</td>\n",
       "      <td>Second Class</td>\n",
       "      <td>EM-14140</td>\n",
       "      <td>Eugene Moren</td>\n",
       "      <td>Home Office</td>\n",
       "      <td>Stockholm</td>\n",
       "      <td>Stockholm</td>\n",
       "      <td>Sweden</td>\n",
       "      <td>NaN</td>\n",
       "      <td>EU</td>\n",
       "      <td>North</td>\n",
       "      <td>OFF-PA-10001492</td>\n",
       "      <td>Office Supplies</td>\n",
       "      <td>Paper</td>\n",
       "      <td>Enermax Note Cards, Premium</td>\n",
       "      <td>44.865</td>\n",
       "      <td>3</td>\n",
       "      <td>0.5</td>\n",
       "      <td>-26.0550</td>\n",
       "      <td>4.82</td>\n",
       "      <td>High</td>\n",
       "    </tr>\n",
       "    <tr>\n",
       "      <th>4</th>\n",
       "      <td>22255</td>\n",
       "      <td>IN-2011-47883</td>\n",
       "      <td>01-01-2011</td>\n",
       "      <td>08-01-2011</td>\n",
       "      <td>Standard Class</td>\n",
       "      <td>JH-15985</td>\n",
       "      <td>Joseph Holt</td>\n",
       "      <td>Consumer</td>\n",
       "      <td>Wagga Wagga</td>\n",
       "      <td>New South Wales</td>\n",
       "      <td>Australia</td>\n",
       "      <td>NaN</td>\n",
       "      <td>APAC</td>\n",
       "      <td>Oceania</td>\n",
       "      <td>FUR-FU-10003447</td>\n",
       "      <td>Furniture</td>\n",
       "      <td>Furnishings</td>\n",
       "      <td>Eldon Light Bulb, Duo Pack</td>\n",
       "      <td>113.670</td>\n",
       "      <td>5</td>\n",
       "      <td>0.1</td>\n",
       "      <td>37.7700</td>\n",
       "      <td>4.70</td>\n",
       "      <td>Medium</td>\n",
       "    </tr>\n",
       "    <tr>\n",
       "      <th>...</th>\n",
       "      <td>...</td>\n",
       "      <td>...</td>\n",
       "      <td>...</td>\n",
       "      <td>...</td>\n",
       "      <td>...</td>\n",
       "      <td>...</td>\n",
       "      <td>...</td>\n",
       "      <td>...</td>\n",
       "      <td>...</td>\n",
       "      <td>...</td>\n",
       "      <td>...</td>\n",
       "      <td>...</td>\n",
       "      <td>...</td>\n",
       "      <td>...</td>\n",
       "      <td>...</td>\n",
       "      <td>...</td>\n",
       "      <td>...</td>\n",
       "      <td>...</td>\n",
       "      <td>...</td>\n",
       "      <td>...</td>\n",
       "      <td>...</td>\n",
       "      <td>...</td>\n",
       "      <td>...</td>\n",
       "      <td>...</td>\n",
       "    </tr>\n",
       "    <tr>\n",
       "      <th>51285</th>\n",
       "      <td>32593</td>\n",
       "      <td>CA-2014-115427</td>\n",
       "      <td>31-12-2014</td>\n",
       "      <td>04-01-2015</td>\n",
       "      <td>Standard Class</td>\n",
       "      <td>EB-13975</td>\n",
       "      <td>Erica Bern</td>\n",
       "      <td>Corporate</td>\n",
       "      <td>Fairfield</td>\n",
       "      <td>California</td>\n",
       "      <td>United States</td>\n",
       "      <td>94533.0</td>\n",
       "      <td>US</td>\n",
       "      <td>West</td>\n",
       "      <td>OFF-BI-10002103</td>\n",
       "      <td>Office Supplies</td>\n",
       "      <td>Binders</td>\n",
       "      <td>Cardinal Slant-D Ring Binder, Heavy Gauge Vinyl</td>\n",
       "      <td>13.904</td>\n",
       "      <td>2</td>\n",
       "      <td>0.2</td>\n",
       "      <td>4.5188</td>\n",
       "      <td>0.89</td>\n",
       "      <td>Medium</td>\n",
       "    </tr>\n",
       "    <tr>\n",
       "      <th>51286</th>\n",
       "      <td>47594</td>\n",
       "      <td>MO-2014-2560</td>\n",
       "      <td>31-12-2014</td>\n",
       "      <td>05-01-2015</td>\n",
       "      <td>Standard Class</td>\n",
       "      <td>LP-7095</td>\n",
       "      <td>Liz Preis</td>\n",
       "      <td>Consumer</td>\n",
       "      <td>Agadir</td>\n",
       "      <td>Souss-Massa-Draâ</td>\n",
       "      <td>Morocco</td>\n",
       "      <td>NaN</td>\n",
       "      <td>Africa</td>\n",
       "      <td>Africa</td>\n",
       "      <td>OFF-WIL-10001069</td>\n",
       "      <td>Office Supplies</td>\n",
       "      <td>Binders</td>\n",
       "      <td>Wilson Jones Hole Reinforcements, Clear</td>\n",
       "      <td>3.990</td>\n",
       "      <td>1</td>\n",
       "      <td>0.0</td>\n",
       "      <td>0.4200</td>\n",
       "      <td>0.49</td>\n",
       "      <td>Medium</td>\n",
       "    </tr>\n",
       "    <tr>\n",
       "      <th>51287</th>\n",
       "      <td>8857</td>\n",
       "      <td>MX-2014-110527</td>\n",
       "      <td>31-12-2014</td>\n",
       "      <td>02-01-2015</td>\n",
       "      <td>Second Class</td>\n",
       "      <td>CM-12190</td>\n",
       "      <td>Charlotte Melton</td>\n",
       "      <td>Consumer</td>\n",
       "      <td>Managua</td>\n",
       "      <td>Managua</td>\n",
       "      <td>Nicaragua</td>\n",
       "      <td>NaN</td>\n",
       "      <td>LATAM</td>\n",
       "      <td>Central</td>\n",
       "      <td>OFF-LA-10004182</td>\n",
       "      <td>Office Supplies</td>\n",
       "      <td>Labels</td>\n",
       "      <td>Hon Color Coded Labels, 5000 Label Set</td>\n",
       "      <td>26.400</td>\n",
       "      <td>3</td>\n",
       "      <td>0.0</td>\n",
       "      <td>12.3600</td>\n",
       "      <td>0.35</td>\n",
       "      <td>Medium</td>\n",
       "    </tr>\n",
       "    <tr>\n",
       "      <th>51288</th>\n",
       "      <td>6852</td>\n",
       "      <td>MX-2014-114783</td>\n",
       "      <td>31-12-2014</td>\n",
       "      <td>06-01-2015</td>\n",
       "      <td>Standard Class</td>\n",
       "      <td>TD-20995</td>\n",
       "      <td>Tamara Dahlen</td>\n",
       "      <td>Consumer</td>\n",
       "      <td>Juárez</td>\n",
       "      <td>Chihuahua</td>\n",
       "      <td>Mexico</td>\n",
       "      <td>NaN</td>\n",
       "      <td>LATAM</td>\n",
       "      <td>North</td>\n",
       "      <td>OFF-LA-10000413</td>\n",
       "      <td>Office Supplies</td>\n",
       "      <td>Labels</td>\n",
       "      <td>Hon Legal Exhibit Labels, Alphabetical</td>\n",
       "      <td>7.120</td>\n",
       "      <td>1</td>\n",
       "      <td>0.0</td>\n",
       "      <td>0.5600</td>\n",
       "      <td>0.20</td>\n",
       "      <td>Medium</td>\n",
       "    </tr>\n",
       "    <tr>\n",
       "      <th>51289</th>\n",
       "      <td>36388</td>\n",
       "      <td>CA-2014-156720</td>\n",
       "      <td>31-12-2014</td>\n",
       "      <td>04-01-2015</td>\n",
       "      <td>Standard Class</td>\n",
       "      <td>JM-15580</td>\n",
       "      <td>Jill Matthias</td>\n",
       "      <td>Consumer</td>\n",
       "      <td>Loveland</td>\n",
       "      <td>Colorado</td>\n",
       "      <td>United States</td>\n",
       "      <td>80538.0</td>\n",
       "      <td>US</td>\n",
       "      <td>West</td>\n",
       "      <td>OFF-FA-10003472</td>\n",
       "      <td>Office Supplies</td>\n",
       "      <td>Fasteners</td>\n",
       "      <td>Bagged Rubber Bands</td>\n",
       "      <td>3.024</td>\n",
       "      <td>3</td>\n",
       "      <td>0.2</td>\n",
       "      <td>-0.6048</td>\n",
       "      <td>0.17</td>\n",
       "      <td>Medium</td>\n",
       "    </tr>\n",
       "  </tbody>\n",
       "</table>\n",
       "<p>51290 rows × 24 columns</p>\n",
       "</div>"
      ],
      "text/plain": [
       "       Row ID         Order ID  Order Date   Ship Date       Ship Mode  \\\n",
       "0       42433     AG-2011-2040  01-01-2011  06-01-2011  Standard Class   \n",
       "1       22253    IN-2011-47883  01-01-2011  08-01-2011  Standard Class   \n",
       "2       48883     HU-2011-1220  01-01-2011  05-01-2011    Second Class   \n",
       "3       11731  IT-2011-3647632  01-01-2011  05-01-2011    Second Class   \n",
       "4       22255    IN-2011-47883  01-01-2011  08-01-2011  Standard Class   \n",
       "...       ...              ...         ...         ...             ...   \n",
       "51285   32593   CA-2014-115427  31-12-2014  04-01-2015  Standard Class   \n",
       "51286   47594     MO-2014-2560  31-12-2014  05-01-2015  Standard Class   \n",
       "51287    8857   MX-2014-110527  31-12-2014  02-01-2015    Second Class   \n",
       "51288    6852   MX-2014-114783  31-12-2014  06-01-2015  Standard Class   \n",
       "51289   36388   CA-2014-156720  31-12-2014  04-01-2015  Standard Class   \n",
       "\n",
       "      Customer ID     Customer Name      Segment         City  \\\n",
       "0        TB-11280   Toby Braunhardt     Consumer  Constantine   \n",
       "1        JH-15985       Joseph Holt     Consumer  Wagga Wagga   \n",
       "2          AT-735     Annie Thurman     Consumer     Budapest   \n",
       "3        EM-14140      Eugene Moren  Home Office    Stockholm   \n",
       "4        JH-15985       Joseph Holt     Consumer  Wagga Wagga   \n",
       "...           ...               ...          ...          ...   \n",
       "51285    EB-13975        Erica Bern    Corporate    Fairfield   \n",
       "51286     LP-7095         Liz Preis     Consumer       Agadir   \n",
       "51287    CM-12190  Charlotte Melton     Consumer      Managua   \n",
       "51288    TD-20995     Tamara Dahlen     Consumer       Juárez   \n",
       "51289    JM-15580     Jill Matthias     Consumer     Loveland   \n",
       "\n",
       "                  State        Country  Postal Code  Market   Region  \\\n",
       "0           Constantine        Algeria          NaN  Africa   Africa   \n",
       "1       New South Wales      Australia          NaN    APAC  Oceania   \n",
       "2              Budapest        Hungary          NaN    EMEA     EMEA   \n",
       "3             Stockholm         Sweden          NaN      EU    North   \n",
       "4       New South Wales      Australia          NaN    APAC  Oceania   \n",
       "...                 ...            ...          ...     ...      ...   \n",
       "51285        California  United States      94533.0      US     West   \n",
       "51286  Souss-Massa-Draâ        Morocco          NaN  Africa   Africa   \n",
       "51287           Managua      Nicaragua          NaN   LATAM  Central   \n",
       "51288         Chihuahua         Mexico          NaN   LATAM    North   \n",
       "51289          Colorado  United States      80538.0      US     West   \n",
       "\n",
       "             Product ID         Category Sub-Category  \\\n",
       "0      OFF-TEN-10000025  Office Supplies      Storage   \n",
       "1       OFF-SU-10000618  Office Supplies     Supplies   \n",
       "2      OFF-TEN-10001585  Office Supplies      Storage   \n",
       "3       OFF-PA-10001492  Office Supplies        Paper   \n",
       "4       FUR-FU-10003447        Furniture  Furnishings   \n",
       "...                 ...              ...          ...   \n",
       "51285   OFF-BI-10002103  Office Supplies      Binders   \n",
       "51286  OFF-WIL-10001069  Office Supplies      Binders   \n",
       "51287   OFF-LA-10004182  Office Supplies       Labels   \n",
       "51288   OFF-LA-10000413  Office Supplies       Labels   \n",
       "51289   OFF-FA-10003472  Office Supplies    Fasteners   \n",
       "\n",
       "                                          Product Name    Sales  Quantity  \\\n",
       "0                                  Tenex Lockers, Blue  408.300         2   \n",
       "1                             Acme Trimmer, High Speed  120.366         3   \n",
       "2                              Tenex Box, Single Width   66.120         4   \n",
       "3                          Enermax Note Cards, Premium   44.865         3   \n",
       "4                           Eldon Light Bulb, Duo Pack  113.670         5   \n",
       "...                                                ...      ...       ...   \n",
       "51285  Cardinal Slant-D Ring Binder, Heavy Gauge Vinyl   13.904         2   \n",
       "51286          Wilson Jones Hole Reinforcements, Clear    3.990         1   \n",
       "51287           Hon Color Coded Labels, 5000 Label Set   26.400         3   \n",
       "51288           Hon Legal Exhibit Labels, Alphabetical    7.120         1   \n",
       "51289                              Bagged Rubber Bands    3.024         3   \n",
       "\n",
       "       Discount    Profit  Shipping Cost Order Priority  \n",
       "0           0.0  106.1400          35.46         Medium  \n",
       "1           0.1   36.0360           9.72         Medium  \n",
       "2           0.0   29.6400           8.17           High  \n",
       "3           0.5  -26.0550           4.82           High  \n",
       "4           0.1   37.7700           4.70         Medium  \n",
       "...         ...       ...            ...            ...  \n",
       "51285       0.2    4.5188           0.89         Medium  \n",
       "51286       0.0    0.4200           0.49         Medium  \n",
       "51287       0.0   12.3600           0.35         Medium  \n",
       "51288       0.0    0.5600           0.20         Medium  \n",
       "51289       0.2   -0.6048           0.17         Medium  \n",
       "\n",
       "[51290 rows x 24 columns]"
      ]
     },
     "execution_count": 13,
     "metadata": {},
     "output_type": "execute_result"
    }
   ],
   "source": [
    "#Check for duplicates, df_online is backuped to df_online_backup first, it still contains 51290 rows × 24 columns so means there are no duplicates\n",
    "\n",
    "df_online_backup.drop_duplicates()  "
   ]
  },
  {
   "cell_type": "markdown",
   "metadata": {},
   "source": [
    "Dataset still  contains 51290 rows × 24 columns so means there are no duplicates, though there are duplicate Order_ID but they are for different categories."
   ]
  },
  {
   "cell_type": "markdown",
   "metadata": {},
   "source": [
    "### Observations:\n",
    "- As postal code is not significant and contains more than 85% null values , so it can be dropped.\n",
    "- Order date and ship date are in object , they need to be converted to datetime format .\n"
   ]
  },
  {
   "cell_type": "code",
   "execution_count": 14,
   "metadata": {},
   "outputs": [
    {
     "data": {
      "application/vnd.jupyter.widget-view+json": {
       "model_id": "40b7cc5e6ae54ccca0f6d76f6bbe298a",
       "version_major": 2,
       "version_minor": 0
      },
      "text/plain": [
       "Summarize dataset:   0%|          | 0/38 [00:00<?, ?it/s]"
      ]
     },
     "metadata": {},
     "output_type": "display_data"
    },
    {
     "data": {
      "application/vnd.jupyter.widget-view+json": {
       "model_id": "c0827172780f4326bd5565256f34aab4",
       "version_major": 2,
       "version_minor": 0
      },
      "text/plain": [
       "Generate report structure:   0%|          | 0/1 [00:00<?, ?it/s]"
      ]
     },
     "metadata": {},
     "output_type": "display_data"
    },
    {
     "data": {
      "application/vnd.jupyter.widget-view+json": {
       "model_id": "dbc41f478678400aa2531c8924fa04c2",
       "version_major": 2,
       "version_minor": 0
      },
      "text/plain": [
       "Render HTML:   0%|          | 0/1 [00:00<?, ?it/s]"
      ]
     },
     "metadata": {},
     "output_type": "display_data"
    },
    {
     "data": {
      "application/vnd.jupyter.widget-view+json": {
       "model_id": "d5563e70e596432381ecfdeba3c6cd3a",
       "version_major": 2,
       "version_minor": 0
      },
      "text/plain": [
       "Export report to file:   0%|          | 0/1 [00:00<?, ?it/s]"
      ]
     },
     "metadata": {},
     "output_type": "display_data"
    }
   ],
   "source": [
    "profile = ProfileReport(df_online)\n",
    "profile.to_file(\"Pre-Profiling Online orders Output.html\")"
   ]
  },
  {
   "cell_type": "markdown",
   "metadata": {
    "colab_type": "text",
    "id": "YMvtK0X-qoe6"
   },
   "source": [
    "---\n",
    "<a name = Section6></a>\n",
    "# **6. Data Pre-Processing**\n",
    "---\n",
    "\n",
    "- This section is emphasised on performing data manipulation over unstructured data for further processing and analysis.\n",
    "\n",
    "- To modify unstructured data to strucuted data you need to verify and manipulate the integrity of the data by:\n",
    "  - Handling missing data,\n",
    "\n",
    "  - Handling redundant data,\n",
    "\n",
    "  - Handling inconsistent data,\n",
    "\n",
    "  - Handling outliers,\n",
    "\n",
    "  - Handling typos\n",
    "  \n",
    "  - Dropping features which may lead to overfitting"
   ]
  },
  {
   "cell_type": "markdown",
   "metadata": {},
   "source": [
    "Check for Null values"
   ]
  },
  {
   "cell_type": "code",
   "execution_count": 15,
   "metadata": {},
   "outputs": [
    {
     "data": {
      "text/plain": [
       "Row ID                0\n",
       "Order ID              0\n",
       "Order Date            0\n",
       "Ship Date             0\n",
       "Ship Mode             0\n",
       "Customer ID           0\n",
       "Customer Name         0\n",
       "Segment               0\n",
       "City                  0\n",
       "State                 0\n",
       "Country               0\n",
       "Postal Code       41296\n",
       "Market                0\n",
       "Region                0\n",
       "Product ID            0\n",
       "Category              0\n",
       "Sub-Category          0\n",
       "Product Name          0\n",
       "Sales                 0\n",
       "Quantity              0\n",
       "Discount              0\n",
       "Profit                0\n",
       "Shipping Cost         0\n",
       "Order Priority        0\n",
       "dtype: int64"
      ]
     },
     "execution_count": 15,
     "metadata": {},
     "output_type": "execute_result"
    }
   ],
   "source": [
    "df_online.isnull().sum()"
   ]
  },
  {
   "cell_type": "markdown",
   "metadata": {
    "colab": {},
    "colab_type": "code",
    "id": "FxzbSzWDqytZ"
   },
   "source": [
    "Removing Missing/NaN Data from dataset"
   ]
  },
  {
   "cell_type": "code",
   "execution_count": 16,
   "metadata": {
    "scrolled": true
   },
   "outputs": [
    {
     "data": {
      "text/html": [
       "<div>\n",
       "<style scoped>\n",
       "    .dataframe tbody tr th:only-of-type {\n",
       "        vertical-align: middle;\n",
       "    }\n",
       "\n",
       "    .dataframe tbody tr th {\n",
       "        vertical-align: top;\n",
       "    }\n",
       "\n",
       "    .dataframe thead th {\n",
       "        text-align: right;\n",
       "    }\n",
       "</style>\n",
       "<table border=\"1\" class=\"dataframe\">\n",
       "  <thead>\n",
       "    <tr style=\"text-align: right;\">\n",
       "      <th></th>\n",
       "      <th>Row ID</th>\n",
       "      <th>Order ID</th>\n",
       "      <th>Order Date</th>\n",
       "      <th>Ship Date</th>\n",
       "      <th>Ship Mode</th>\n",
       "      <th>Customer ID</th>\n",
       "      <th>Customer Name</th>\n",
       "      <th>Segment</th>\n",
       "      <th>City</th>\n",
       "      <th>State</th>\n",
       "      <th>Country</th>\n",
       "      <th>Postal Code</th>\n",
       "      <th>Market</th>\n",
       "      <th>Region</th>\n",
       "      <th>Product ID</th>\n",
       "      <th>Category</th>\n",
       "      <th>Sub-Category</th>\n",
       "      <th>Product Name</th>\n",
       "      <th>Sales</th>\n",
       "      <th>Quantity</th>\n",
       "      <th>Discount</th>\n",
       "      <th>Profit</th>\n",
       "      <th>Shipping Cost</th>\n",
       "      <th>Order Priority</th>\n",
       "    </tr>\n",
       "  </thead>\n",
       "  <tbody>\n",
       "    <tr>\n",
       "      <th>0</th>\n",
       "      <td>42433</td>\n",
       "      <td>AG-2011-2040</td>\n",
       "      <td>01-01-2011</td>\n",
       "      <td>06-01-2011</td>\n",
       "      <td>Standard Class</td>\n",
       "      <td>TB-11280</td>\n",
       "      <td>Toby Braunhardt</td>\n",
       "      <td>Consumer</td>\n",
       "      <td>Constantine</td>\n",
       "      <td>Constantine</td>\n",
       "      <td>Algeria</td>\n",
       "      <td>NaN</td>\n",
       "      <td>Africa</td>\n",
       "      <td>Africa</td>\n",
       "      <td>OFF-TEN-10000025</td>\n",
       "      <td>Office Supplies</td>\n",
       "      <td>Storage</td>\n",
       "      <td>Tenex Lockers, Blue</td>\n",
       "      <td>408.300</td>\n",
       "      <td>2</td>\n",
       "      <td>0.0</td>\n",
       "      <td>106.140</td>\n",
       "      <td>35.46</td>\n",
       "      <td>Medium</td>\n",
       "    </tr>\n",
       "    <tr>\n",
       "      <th>1</th>\n",
       "      <td>22253</td>\n",
       "      <td>IN-2011-47883</td>\n",
       "      <td>01-01-2011</td>\n",
       "      <td>08-01-2011</td>\n",
       "      <td>Standard Class</td>\n",
       "      <td>JH-15985</td>\n",
       "      <td>Joseph Holt</td>\n",
       "      <td>Consumer</td>\n",
       "      <td>Wagga Wagga</td>\n",
       "      <td>New South Wales</td>\n",
       "      <td>Australia</td>\n",
       "      <td>NaN</td>\n",
       "      <td>APAC</td>\n",
       "      <td>Oceania</td>\n",
       "      <td>OFF-SU-10000618</td>\n",
       "      <td>Office Supplies</td>\n",
       "      <td>Supplies</td>\n",
       "      <td>Acme Trimmer, High Speed</td>\n",
       "      <td>120.366</td>\n",
       "      <td>3</td>\n",
       "      <td>0.1</td>\n",
       "      <td>36.036</td>\n",
       "      <td>9.72</td>\n",
       "      <td>Medium</td>\n",
       "    </tr>\n",
       "    <tr>\n",
       "      <th>2</th>\n",
       "      <td>48883</td>\n",
       "      <td>HU-2011-1220</td>\n",
       "      <td>01-01-2011</td>\n",
       "      <td>05-01-2011</td>\n",
       "      <td>Second Class</td>\n",
       "      <td>AT-735</td>\n",
       "      <td>Annie Thurman</td>\n",
       "      <td>Consumer</td>\n",
       "      <td>Budapest</td>\n",
       "      <td>Budapest</td>\n",
       "      <td>Hungary</td>\n",
       "      <td>NaN</td>\n",
       "      <td>EMEA</td>\n",
       "      <td>EMEA</td>\n",
       "      <td>OFF-TEN-10001585</td>\n",
       "      <td>Office Supplies</td>\n",
       "      <td>Storage</td>\n",
       "      <td>Tenex Box, Single Width</td>\n",
       "      <td>66.120</td>\n",
       "      <td>4</td>\n",
       "      <td>0.0</td>\n",
       "      <td>29.640</td>\n",
       "      <td>8.17</td>\n",
       "      <td>High</td>\n",
       "    </tr>\n",
       "    <tr>\n",
       "      <th>3</th>\n",
       "      <td>11731</td>\n",
       "      <td>IT-2011-3647632</td>\n",
       "      <td>01-01-2011</td>\n",
       "      <td>05-01-2011</td>\n",
       "      <td>Second Class</td>\n",
       "      <td>EM-14140</td>\n",
       "      <td>Eugene Moren</td>\n",
       "      <td>Home Office</td>\n",
       "      <td>Stockholm</td>\n",
       "      <td>Stockholm</td>\n",
       "      <td>Sweden</td>\n",
       "      <td>NaN</td>\n",
       "      <td>EU</td>\n",
       "      <td>North</td>\n",
       "      <td>OFF-PA-10001492</td>\n",
       "      <td>Office Supplies</td>\n",
       "      <td>Paper</td>\n",
       "      <td>Enermax Note Cards, Premium</td>\n",
       "      <td>44.865</td>\n",
       "      <td>3</td>\n",
       "      <td>0.5</td>\n",
       "      <td>-26.055</td>\n",
       "      <td>4.82</td>\n",
       "      <td>High</td>\n",
       "    </tr>\n",
       "    <tr>\n",
       "      <th>4</th>\n",
       "      <td>22255</td>\n",
       "      <td>IN-2011-47883</td>\n",
       "      <td>01-01-2011</td>\n",
       "      <td>08-01-2011</td>\n",
       "      <td>Standard Class</td>\n",
       "      <td>JH-15985</td>\n",
       "      <td>Joseph Holt</td>\n",
       "      <td>Consumer</td>\n",
       "      <td>Wagga Wagga</td>\n",
       "      <td>New South Wales</td>\n",
       "      <td>Australia</td>\n",
       "      <td>NaN</td>\n",
       "      <td>APAC</td>\n",
       "      <td>Oceania</td>\n",
       "      <td>FUR-FU-10003447</td>\n",
       "      <td>Furniture</td>\n",
       "      <td>Furnishings</td>\n",
       "      <td>Eldon Light Bulb, Duo Pack</td>\n",
       "      <td>113.670</td>\n",
       "      <td>5</td>\n",
       "      <td>0.1</td>\n",
       "      <td>37.770</td>\n",
       "      <td>4.70</td>\n",
       "      <td>Medium</td>\n",
       "    </tr>\n",
       "  </tbody>\n",
       "</table>\n",
       "</div>"
      ],
      "text/plain": [
       "   Row ID         Order ID  Order Date   Ship Date       Ship Mode  \\\n",
       "0   42433     AG-2011-2040  01-01-2011  06-01-2011  Standard Class   \n",
       "1   22253    IN-2011-47883  01-01-2011  08-01-2011  Standard Class   \n",
       "2   48883     HU-2011-1220  01-01-2011  05-01-2011    Second Class   \n",
       "3   11731  IT-2011-3647632  01-01-2011  05-01-2011    Second Class   \n",
       "4   22255    IN-2011-47883  01-01-2011  08-01-2011  Standard Class   \n",
       "\n",
       "  Customer ID    Customer Name      Segment         City            State  \\\n",
       "0    TB-11280  Toby Braunhardt     Consumer  Constantine      Constantine   \n",
       "1    JH-15985      Joseph Holt     Consumer  Wagga Wagga  New South Wales   \n",
       "2      AT-735    Annie Thurman     Consumer     Budapest         Budapest   \n",
       "3    EM-14140     Eugene Moren  Home Office    Stockholm        Stockholm   \n",
       "4    JH-15985      Joseph Holt     Consumer  Wagga Wagga  New South Wales   \n",
       "\n",
       "     Country  Postal Code  Market   Region        Product ID         Category  \\\n",
       "0    Algeria          NaN  Africa   Africa  OFF-TEN-10000025  Office Supplies   \n",
       "1  Australia          NaN    APAC  Oceania   OFF-SU-10000618  Office Supplies   \n",
       "2    Hungary          NaN    EMEA     EMEA  OFF-TEN-10001585  Office Supplies   \n",
       "3     Sweden          NaN      EU    North   OFF-PA-10001492  Office Supplies   \n",
       "4  Australia          NaN    APAC  Oceania   FUR-FU-10003447        Furniture   \n",
       "\n",
       "  Sub-Category                 Product Name    Sales  Quantity  Discount  \\\n",
       "0      Storage          Tenex Lockers, Blue  408.300         2       0.0   \n",
       "1     Supplies     Acme Trimmer, High Speed  120.366         3       0.1   \n",
       "2      Storage      Tenex Box, Single Width   66.120         4       0.0   \n",
       "3        Paper  Enermax Note Cards, Premium   44.865         3       0.5   \n",
       "4  Furnishings   Eldon Light Bulb, Duo Pack  113.670         5       0.1   \n",
       "\n",
       "    Profit  Shipping Cost Order Priority  \n",
       "0  106.140          35.46         Medium  \n",
       "1   36.036           9.72         Medium  \n",
       "2   29.640           8.17           High  \n",
       "3  -26.055           4.82           High  \n",
       "4   37.770           4.70         Medium  "
      ]
     },
     "execution_count": 16,
     "metadata": {},
     "output_type": "execute_result"
    }
   ],
   "source": [
    "df_online[df_online['Postal Code'].isnull()].head()"
   ]
  },
  {
   "cell_type": "markdown",
   "metadata": {},
   "source": [
    " Postal code is not significant and contains more than 85% null values , so it can be dropped."
   ]
  },
  {
   "cell_type": "code",
   "execution_count": 17,
   "metadata": {
    "scrolled": true
   },
   "outputs": [],
   "source": [
    "df_online.drop(['Postal Code'],axis= 1,inplace=True)"
   ]
  },
  {
   "cell_type": "markdown",
   "metadata": {},
   "source": [
    "Dropping below columns as they may result in overfitting of the model:\n",
    "\n",
    "Row id <br>\n",
    "order id <br>\n",
    "Order Date <br>\n",
    "Ship Date <br>\n",
    "Ship Mode <br>\n",
    "Customer id <br>\n",
    "City <br>\n",
    "Country <br>\n",
    "State <br>\n",
    "Postal Code <br>\n",
    "Market <br>\n",
    "Sub category <br>\n",
    "Product name"
   ]
  },
  {
   "cell_type": "code",
   "execution_count": 18,
   "metadata": {},
   "outputs": [
    {
     "name": "stdout",
     "output_type": "stream",
     "text": [
      "<class 'pandas.core.frame.DataFrame'>\n",
      "RangeIndex: 51290 entries, 0 to 51289\n",
      "Data columns (total 23 columns):\n",
      " #   Column          Non-Null Count  Dtype  \n",
      "---  ------          --------------  -----  \n",
      " 0   Row ID          51290 non-null  int64  \n",
      " 1   Order ID        51290 non-null  object \n",
      " 2   Order Date      51290 non-null  object \n",
      " 3   Ship Date       51290 non-null  object \n",
      " 4   Ship Mode       51290 non-null  object \n",
      " 5   Customer ID     51290 non-null  object \n",
      " 6   Customer Name   51290 non-null  object \n",
      " 7   Segment         51290 non-null  object \n",
      " 8   City            51290 non-null  object \n",
      " 9   State           51290 non-null  object \n",
      " 10  Country         51290 non-null  object \n",
      " 11  Market          51290 non-null  object \n",
      " 12  Region          51290 non-null  object \n",
      " 13  Product ID      51290 non-null  object \n",
      " 14  Category        51290 non-null  object \n",
      " 15  Sub-Category    51290 non-null  object \n",
      " 16  Product Name    51290 non-null  object \n",
      " 17  Sales           51290 non-null  float64\n",
      " 18  Quantity        51290 non-null  int64  \n",
      " 19  Discount        51290 non-null  float64\n",
      " 20  Profit          51290 non-null  float64\n",
      " 21  Shipping Cost   51290 non-null  float64\n",
      " 22  Order Priority  51290 non-null  object \n",
      "dtypes: float64(4), int64(2), object(17)\n",
      "memory usage: 9.0+ MB\n"
     ]
    }
   ],
   "source": [
    "df_online.info()"
   ]
  },
  {
   "cell_type": "code",
   "execution_count": 19,
   "metadata": {},
   "outputs": [],
   "source": [
    "df_online_new=df_online.drop(['Row ID','Order ID','Order Date','Ship Date','Ship Mode','Customer ID','Customer Name','City','State','Country','Market','Sub-Category','Product Name'],axis=1)"
   ]
  },
  {
   "cell_type": "code",
   "execution_count": 20,
   "metadata": {},
   "outputs": [
    {
     "data": {
      "text/html": [
       "<div>\n",
       "<style scoped>\n",
       "    .dataframe tbody tr th:only-of-type {\n",
       "        vertical-align: middle;\n",
       "    }\n",
       "\n",
       "    .dataframe tbody tr th {\n",
       "        vertical-align: top;\n",
       "    }\n",
       "\n",
       "    .dataframe thead th {\n",
       "        text-align: right;\n",
       "    }\n",
       "</style>\n",
       "<table border=\"1\" class=\"dataframe\">\n",
       "  <thead>\n",
       "    <tr style=\"text-align: right;\">\n",
       "      <th></th>\n",
       "      <th>Segment</th>\n",
       "      <th>Region</th>\n",
       "      <th>Product ID</th>\n",
       "      <th>Category</th>\n",
       "      <th>Sales</th>\n",
       "      <th>Quantity</th>\n",
       "      <th>Discount</th>\n",
       "      <th>Profit</th>\n",
       "      <th>Shipping Cost</th>\n",
       "      <th>Order Priority</th>\n",
       "    </tr>\n",
       "  </thead>\n",
       "  <tbody>\n",
       "    <tr>\n",
       "      <th>0</th>\n",
       "      <td>Consumer</td>\n",
       "      <td>Africa</td>\n",
       "      <td>OFF-TEN-10000025</td>\n",
       "      <td>Office Supplies</td>\n",
       "      <td>408.300</td>\n",
       "      <td>2</td>\n",
       "      <td>0.0</td>\n",
       "      <td>106.140</td>\n",
       "      <td>35.46</td>\n",
       "      <td>Medium</td>\n",
       "    </tr>\n",
       "    <tr>\n",
       "      <th>1</th>\n",
       "      <td>Consumer</td>\n",
       "      <td>Oceania</td>\n",
       "      <td>OFF-SU-10000618</td>\n",
       "      <td>Office Supplies</td>\n",
       "      <td>120.366</td>\n",
       "      <td>3</td>\n",
       "      <td>0.1</td>\n",
       "      <td>36.036</td>\n",
       "      <td>9.72</td>\n",
       "      <td>Medium</td>\n",
       "    </tr>\n",
       "    <tr>\n",
       "      <th>2</th>\n",
       "      <td>Consumer</td>\n",
       "      <td>EMEA</td>\n",
       "      <td>OFF-TEN-10001585</td>\n",
       "      <td>Office Supplies</td>\n",
       "      <td>66.120</td>\n",
       "      <td>4</td>\n",
       "      <td>0.0</td>\n",
       "      <td>29.640</td>\n",
       "      <td>8.17</td>\n",
       "      <td>High</td>\n",
       "    </tr>\n",
       "    <tr>\n",
       "      <th>3</th>\n",
       "      <td>Home Office</td>\n",
       "      <td>North</td>\n",
       "      <td>OFF-PA-10001492</td>\n",
       "      <td>Office Supplies</td>\n",
       "      <td>44.865</td>\n",
       "      <td>3</td>\n",
       "      <td>0.5</td>\n",
       "      <td>-26.055</td>\n",
       "      <td>4.82</td>\n",
       "      <td>High</td>\n",
       "    </tr>\n",
       "    <tr>\n",
       "      <th>4</th>\n",
       "      <td>Consumer</td>\n",
       "      <td>Oceania</td>\n",
       "      <td>FUR-FU-10003447</td>\n",
       "      <td>Furniture</td>\n",
       "      <td>113.670</td>\n",
       "      <td>5</td>\n",
       "      <td>0.1</td>\n",
       "      <td>37.770</td>\n",
       "      <td>4.70</td>\n",
       "      <td>Medium</td>\n",
       "    </tr>\n",
       "  </tbody>\n",
       "</table>\n",
       "</div>"
      ],
      "text/plain": [
       "       Segment   Region        Product ID         Category    Sales  Quantity  \\\n",
       "0     Consumer   Africa  OFF-TEN-10000025  Office Supplies  408.300         2   \n",
       "1     Consumer  Oceania   OFF-SU-10000618  Office Supplies  120.366         3   \n",
       "2     Consumer     EMEA  OFF-TEN-10001585  Office Supplies   66.120         4   \n",
       "3  Home Office    North   OFF-PA-10001492  Office Supplies   44.865         3   \n",
       "4     Consumer  Oceania   FUR-FU-10003447        Furniture  113.670         5   \n",
       "\n",
       "   Discount   Profit  Shipping Cost Order Priority  \n",
       "0       0.0  106.140          35.46         Medium  \n",
       "1       0.1   36.036           9.72         Medium  \n",
       "2       0.0   29.640           8.17           High  \n",
       "3       0.5  -26.055           4.82           High  \n",
       "4       0.1   37.770           4.70         Medium  "
      ]
     },
     "execution_count": 20,
     "metadata": {},
     "output_type": "execute_result"
    }
   ],
   "source": [
    "df_online_new.head()"
   ]
  },
  {
   "cell_type": "markdown",
   "metadata": {
    "colab_type": "text",
    "id": "amsQwri2q1_J"
   },
   "source": [
    "---\n",
    "<a name = Section7></a>\n",
    "# **7. Data Post-Profiling**\n",
    "---\n",
    "\n",
    "- This section is emphasised on getting a report about the data after the data manipulation.\n",
    "\n",
    "- You may end up observing some new changes, so keep it under check and make right observations."
   ]
  },
  {
   "cell_type": "code",
   "execution_count": 21,
   "metadata": {},
   "outputs": [
    {
     "data": {
      "application/vnd.jupyter.widget-view+json": {
       "model_id": "af5d574e64104543b09c487a8696ce74",
       "version_major": 2,
       "version_minor": 0
      },
      "text/plain": [
       "Summarize dataset:   0%|          | 0/24 [00:00<?, ?it/s]"
      ]
     },
     "metadata": {},
     "output_type": "display_data"
    },
    {
     "data": {
      "application/vnd.jupyter.widget-view+json": {
       "model_id": "2a5af18479404672af9dece2dfa3254b",
       "version_major": 2,
       "version_minor": 0
      },
      "text/plain": [
       "Generate report structure:   0%|          | 0/1 [00:00<?, ?it/s]"
      ]
     },
     "metadata": {},
     "output_type": "display_data"
    },
    {
     "data": {
      "application/vnd.jupyter.widget-view+json": {
       "model_id": "0af0057aced84d8dba29ab7bd7a9bc96",
       "version_major": 2,
       "version_minor": 0
      },
      "text/plain": [
       "Render HTML:   0%|          | 0/1 [00:00<?, ?it/s]"
      ]
     },
     "metadata": {},
     "output_type": "display_data"
    },
    {
     "data": {
      "application/vnd.jupyter.widget-view+json": {
       "model_id": "d428ff85995346d29bd78fe69e4b8433",
       "version_major": 2,
       "version_minor": 0
      },
      "text/plain": [
       "Export report to file:   0%|          | 0/1 [00:00<?, ?it/s]"
      ]
     },
     "metadata": {},
     "output_type": "display_data"
    }
   ],
   "source": [
    "profile = ProfileReport(df_online_new)\n",
    "profile.to_file(\"Post-Profiling Online orders Output.html\")"
   ]
  },
  {
   "cell_type": "markdown",
   "metadata": {
    "colab_type": "text",
    "id": "taDvvLa9q-5p"
   },
   "source": [
    "---\n",
    "<a name = Section8></a>\n",
    "# **8. Exploratory Data Analysis**\n",
    "---\n",
    "\n",
    "- This section is emphasised on asking the right questions and perform analysis using the data.\n",
    "\n",
    "- Note that there is no limit how deep you can go, but make sure not to get distracted from right track."
   ]
  },
  {
   "cell_type": "markdown",
   "metadata": {},
   "source": [
    "<a name = Section81></a>\n",
    "### 8.1. Correlation."
   ]
  },
  {
   "cell_type": "code",
   "execution_count": 22,
   "metadata": {},
   "outputs": [
    {
     "data": {
      "image/png": "[encoded data removed]",
      "text/plain": [
       "<Figure size 720x576 with 2 Axes>"
      ]
     },
     "metadata": {
      "needs_background": "light"
     },
     "output_type": "display_data"
    }
   ],
   "source": [
    "df_online_minus_sales = df_online_new.drop(['Sales'] ,axis =1)\n",
    "retail_corr = df_online_minus_sales.corr()\n",
    "plt.figure(figsize=(10,8))\n",
    "sns.heatmap(retail_corr, annot=True, cmap='viridis')\n",
    "plt.savefig('HeatMap.png')\n",
    "plt.show()"
   ]
  },
  {
   "cell_type": "markdown",
   "metadata": {},
   "source": [
    "The above graph shows there is no multicolinearity between the independent features.\n"
   ]
  },
  {
   "cell_type": "code",
   "execution_count": 23,
   "metadata": {},
   "outputs": [
    {
     "data": {
      "text/plain": [
       "Text(0.5, 0, 'Sales')"
      ]
     },
     "execution_count": 23,
     "metadata": {},
     "output_type": "execute_result"
    },
    {
     "data": {
      "image/png": "[encoded data removed]",
      "text/plain": [
       "<Figure size 432x288 with 1 Axes>"
      ]
     },
     "metadata": {
      "needs_background": "light"
     },
     "output_type": "display_data"
    }
   ],
   "source": [
    "sns.distplot(df_online_new['Sales'], bins=10)\n",
    "plt.xlabel('Sales')"
   ]
  },
  {
   "cell_type": "markdown",
   "metadata": {},
   "source": [
    "The above graph shows sales is positively Skewed"
   ]
  },
  {
   "cell_type": "markdown",
   "metadata": {},
   "source": [
    "---\n",
    "<a name = Section9></a>\n",
    "\n",
    "# 9. Getting Data Ready for ML \n",
    "---\n",
    "\n",
    "- This section emphasised on divding data into Independent Varaible(X) and      dependent varaible (y).\n",
    "- This section will emphasis on seperating categorical and numerical     independent features\n",
    "- This section will emphasis on doing normalization of Continous varibales and encoding of categorical features.\n",
    "- This section is emphasised on splitting the data into test and training.\n",
    "\n"
   ]
  },
  {
   "cell_type": "markdown",
   "metadata": {},
   "source": [
    "<a name = Section91></a>\n",
    "### 9.1 Dividing data into X (Independent variables ) and y (Dependent               Variable)"
   ]
  },
  {
   "cell_type": "code",
   "execution_count": 24,
   "metadata": {},
   "outputs": [
    {
     "data": {
      "text/plain": [
       "0    408.300\n",
       "1    120.366\n",
       "2     66.120\n",
       "3     44.865\n",
       "4    113.670\n",
       "Name: Sales, dtype: float64"
      ]
     },
     "execution_count": 24,
     "metadata": {},
     "output_type": "execute_result"
    }
   ],
   "source": [
    "y = df_online_new['Sales']\n",
    "y.head()"
   ]
  },
  {
   "cell_type": "code",
   "execution_count": 25,
   "metadata": {},
   "outputs": [
    {
     "data": {
      "text/html": [
       "<div>\n",
       "<style scoped>\n",
       "    .dataframe tbody tr th:only-of-type {\n",
       "        vertical-align: middle;\n",
       "    }\n",
       "\n",
       "    .dataframe tbody tr th {\n",
       "        vertical-align: top;\n",
       "    }\n",
       "\n",
       "    .dataframe thead th {\n",
       "        text-align: right;\n",
       "    }\n",
       "</style>\n",
       "<table border=\"1\" class=\"dataframe\">\n",
       "  <thead>\n",
       "    <tr style=\"text-align: right;\">\n",
       "      <th></th>\n",
       "      <th>Segment</th>\n",
       "      <th>Region</th>\n",
       "      <th>Product ID</th>\n",
       "      <th>Category</th>\n",
       "      <th>Quantity</th>\n",
       "      <th>Discount</th>\n",
       "      <th>Profit</th>\n",
       "      <th>Shipping Cost</th>\n",
       "      <th>Order Priority</th>\n",
       "    </tr>\n",
       "  </thead>\n",
       "  <tbody>\n",
       "    <tr>\n",
       "      <th>0</th>\n",
       "      <td>Consumer</td>\n",
       "      <td>Africa</td>\n",
       "      <td>OFF-TEN-10000025</td>\n",
       "      <td>Office Supplies</td>\n",
       "      <td>2</td>\n",
       "      <td>0.0</td>\n",
       "      <td>106.140</td>\n",
       "      <td>35.46</td>\n",
       "      <td>Medium</td>\n",
       "    </tr>\n",
       "    <tr>\n",
       "      <th>1</th>\n",
       "      <td>Consumer</td>\n",
       "      <td>Oceania</td>\n",
       "      <td>OFF-SU-10000618</td>\n",
       "      <td>Office Supplies</td>\n",
       "      <td>3</td>\n",
       "      <td>0.1</td>\n",
       "      <td>36.036</td>\n",
       "      <td>9.72</td>\n",
       "      <td>Medium</td>\n",
       "    </tr>\n",
       "    <tr>\n",
       "      <th>2</th>\n",
       "      <td>Consumer</td>\n",
       "      <td>EMEA</td>\n",
       "      <td>OFF-TEN-10001585</td>\n",
       "      <td>Office Supplies</td>\n",
       "      <td>4</td>\n",
       "      <td>0.0</td>\n",
       "      <td>29.640</td>\n",
       "      <td>8.17</td>\n",
       "      <td>High</td>\n",
       "    </tr>\n",
       "    <tr>\n",
       "      <th>3</th>\n",
       "      <td>Home Office</td>\n",
       "      <td>North</td>\n",
       "      <td>OFF-PA-10001492</td>\n",
       "      <td>Office Supplies</td>\n",
       "      <td>3</td>\n",
       "      <td>0.5</td>\n",
       "      <td>-26.055</td>\n",
       "      <td>4.82</td>\n",
       "      <td>High</td>\n",
       "    </tr>\n",
       "    <tr>\n",
       "      <th>4</th>\n",
       "      <td>Consumer</td>\n",
       "      <td>Oceania</td>\n",
       "      <td>FUR-FU-10003447</td>\n",
       "      <td>Furniture</td>\n",
       "      <td>5</td>\n",
       "      <td>0.1</td>\n",
       "      <td>37.770</td>\n",
       "      <td>4.70</td>\n",
       "      <td>Medium</td>\n",
       "    </tr>\n",
       "  </tbody>\n",
       "</table>\n",
       "</div>"
      ],
      "text/plain": [
       "       Segment   Region        Product ID         Category  Quantity  \\\n",
       "0     Consumer   Africa  OFF-TEN-10000025  Office Supplies         2   \n",
       "1     Consumer  Oceania   OFF-SU-10000618  Office Supplies         3   \n",
       "2     Consumer     EMEA  OFF-TEN-10001585  Office Supplies         4   \n",
       "3  Home Office    North   OFF-PA-10001492  Office Supplies         3   \n",
       "4     Consumer  Oceania   FUR-FU-10003447        Furniture         5   \n",
       "\n",
       "   Discount   Profit  Shipping Cost Order Priority  \n",
       "0       0.0  106.140          35.46         Medium  \n",
       "1       0.1   36.036           9.72         Medium  \n",
       "2       0.0   29.640           8.17           High  \n",
       "3       0.5  -26.055           4.82           High  \n",
       "4       0.1   37.770           4.70         Medium  "
      ]
     },
     "execution_count": 25,
     "metadata": {},
     "output_type": "execute_result"
    }
   ],
   "source": [
    "X = df_online_new.drop(['Sales'], axis = 1)\n",
    "X.head()"
   ]
  },
  {
   "cell_type": "markdown",
   "metadata": {},
   "source": [
    "<a name = Section92></a>\n",
    "### 9.2 Seperating categorical and numerical independent features"
   ]
  },
  {
   "cell_type": "code",
   "execution_count": 26,
   "metadata": {},
   "outputs": [
    {
     "data": {
      "text/plain": [
       "Index(['Quantity', 'Discount', 'Profit', 'Shipping Cost'], dtype='object')"
      ]
     },
     "execution_count": 26,
     "metadata": {},
     "output_type": "execute_result"
    }
   ],
   "source": [
    "Numerical_features = X.describe().columns\n",
    "Numerical_features"
   ]
  },
  {
   "cell_type": "code",
   "execution_count": 27,
   "metadata": {},
   "outputs": [
    {
     "data": {
      "text/plain": [
       "['Category', 'Region', 'Product ID', 'Segment', 'Order Priority']"
      ]
     },
     "execution_count": 27,
     "metadata": {},
     "output_type": "execute_result"
    }
   ],
   "source": [
    "Categorical_features = list(set(X.columns)-set(X.describe().columns))\n",
    "Categorical_features"
   ]
  },
  {
   "cell_type": "markdown",
   "metadata": {},
   "source": [
    "<a name = Section93></a>\n",
    "### 9.3 Normalization of Data"
   ]
  },
  {
   "cell_type": "code",
   "execution_count": 28,
   "metadata": {},
   "outputs": [],
   "source": [
    "from sklearn.preprocessing import StandardScaler \n",
    "ss =StandardScaler()"
   ]
  },
  {
   "cell_type": "code",
   "execution_count": 29,
   "metadata": {},
   "outputs": [],
   "source": [
    "X[Numerical_features] =ss.fit_transform(X[Numerical_features])"
   ]
  },
  {
   "cell_type": "code",
   "execution_count": 30,
   "metadata": {},
   "outputs": [
    {
     "data": {
      "text/html": [
       "<div>\n",
       "<style scoped>\n",
       "    .dataframe tbody tr th:only-of-type {\n",
       "        vertical-align: middle;\n",
       "    }\n",
       "\n",
       "    .dataframe tbody tr th {\n",
       "        vertical-align: top;\n",
       "    }\n",
       "\n",
       "    .dataframe thead th {\n",
       "        text-align: right;\n",
       "    }\n",
       "</style>\n",
       "<table border=\"1\" class=\"dataframe\">\n",
       "  <thead>\n",
       "    <tr style=\"text-align: right;\">\n",
       "      <th></th>\n",
       "      <th>Quantity</th>\n",
       "      <th>Discount</th>\n",
       "      <th>Profit</th>\n",
       "      <th>Shipping Cost</th>\n",
       "    </tr>\n",
       "  </thead>\n",
       "  <tbody>\n",
       "    <tr>\n",
       "      <th>0</th>\n",
       "      <td>-0.647964</td>\n",
       "      <td>-0.673210</td>\n",
       "      <td>0.444702</td>\n",
       "      <td>0.158546</td>\n",
       "    </tr>\n",
       "    <tr>\n",
       "      <th>1</th>\n",
       "      <td>-0.209126</td>\n",
       "      <td>-0.202129</td>\n",
       "      <td>0.042589</td>\n",
       "      <td>-0.290698</td>\n",
       "    </tr>\n",
       "    <tr>\n",
       "      <th>2</th>\n",
       "      <td>0.229712</td>\n",
       "      <td>-0.673210</td>\n",
       "      <td>0.005902</td>\n",
       "      <td>-0.317751</td>\n",
       "    </tr>\n",
       "    <tr>\n",
       "      <th>3</th>\n",
       "      <td>-0.209126</td>\n",
       "      <td>1.682194</td>\n",
       "      <td>-0.313561</td>\n",
       "      <td>-0.376219</td>\n",
       "    </tr>\n",
       "    <tr>\n",
       "      <th>4</th>\n",
       "      <td>0.668550</td>\n",
       "      <td>-0.202129</td>\n",
       "      <td>0.052536</td>\n",
       "      <td>-0.378313</td>\n",
       "    </tr>\n",
       "    <tr>\n",
       "      <th>...</th>\n",
       "      <td>...</td>\n",
       "      <td>...</td>\n",
       "      <td>...</td>\n",
       "      <td>...</td>\n",
       "    </tr>\n",
       "    <tr>\n",
       "      <th>51285</th>\n",
       "      <td>-0.647964</td>\n",
       "      <td>0.268952</td>\n",
       "      <td>-0.138191</td>\n",
       "      <td>-0.444810</td>\n",
       "    </tr>\n",
       "    <tr>\n",
       "      <th>51286</th>\n",
       "      <td>-1.086803</td>\n",
       "      <td>-0.673210</td>\n",
       "      <td>-0.161702</td>\n",
       "      <td>-0.451791</td>\n",
       "    </tr>\n",
       "    <tr>\n",
       "      <th>51287</th>\n",
       "      <td>-0.209126</td>\n",
       "      <td>-0.673210</td>\n",
       "      <td>-0.093215</td>\n",
       "      <td>-0.454234</td>\n",
       "    </tr>\n",
       "    <tr>\n",
       "      <th>51288</th>\n",
       "      <td>-1.086803</td>\n",
       "      <td>-0.673210</td>\n",
       "      <td>-0.160899</td>\n",
       "      <td>-0.456852</td>\n",
       "    </tr>\n",
       "    <tr>\n",
       "      <th>51289</th>\n",
       "      <td>-0.209126</td>\n",
       "      <td>0.268952</td>\n",
       "      <td>-0.167580</td>\n",
       "      <td>-0.457376</td>\n",
       "    </tr>\n",
       "  </tbody>\n",
       "</table>\n",
       "<p>51290 rows × 4 columns</p>\n",
       "</div>"
      ],
      "text/plain": [
       "       Quantity  Discount    Profit  Shipping Cost\n",
       "0     -0.647964 -0.673210  0.444702       0.158546\n",
       "1     -0.209126 -0.202129  0.042589      -0.290698\n",
       "2      0.229712 -0.673210  0.005902      -0.317751\n",
       "3     -0.209126  1.682194 -0.313561      -0.376219\n",
       "4      0.668550 -0.202129  0.052536      -0.378313\n",
       "...         ...       ...       ...            ...\n",
       "51285 -0.647964  0.268952 -0.138191      -0.444810\n",
       "51286 -1.086803 -0.673210 -0.161702      -0.451791\n",
       "51287 -0.209126 -0.673210 -0.093215      -0.454234\n",
       "51288 -1.086803 -0.673210 -0.160899      -0.456852\n",
       "51289 -0.209126  0.268952 -0.167580      -0.457376\n",
       "\n",
       "[51290 rows x 4 columns]"
      ]
     },
     "execution_count": 30,
     "metadata": {},
     "output_type": "execute_result"
    }
   ],
   "source": [
    "X[Numerical_features]"
   ]
  },
  {
   "cell_type": "markdown",
   "metadata": {},
   "source": [
    "<a name = Section94></a>\n",
    "### 9.4 Label Encoding of Categorical Data"
   ]
  },
  {
   "cell_type": "code",
   "execution_count": 31,
   "metadata": {},
   "outputs": [
    {
     "data": {
      "text/html": [
       "<div>\n",
       "<style scoped>\n",
       "    .dataframe tbody tr th:only-of-type {\n",
       "        vertical-align: middle;\n",
       "    }\n",
       "\n",
       "    .dataframe tbody tr th {\n",
       "        vertical-align: top;\n",
       "    }\n",
       "\n",
       "    .dataframe thead th {\n",
       "        text-align: right;\n",
       "    }\n",
       "</style>\n",
       "<table border=\"1\" class=\"dataframe\">\n",
       "  <thead>\n",
       "    <tr style=\"text-align: right;\">\n",
       "      <th></th>\n",
       "      <th>Segment</th>\n",
       "      <th>Region</th>\n",
       "      <th>Product ID</th>\n",
       "      <th>Category</th>\n",
       "      <th>Quantity</th>\n",
       "      <th>Discount</th>\n",
       "      <th>Profit</th>\n",
       "      <th>Shipping Cost</th>\n",
       "      <th>Order Priority</th>\n",
       "    </tr>\n",
       "  </thead>\n",
       "  <tbody>\n",
       "    <tr>\n",
       "      <th>0</th>\n",
       "      <td>0</td>\n",
       "      <td>0</td>\n",
       "      <td>7846</td>\n",
       "      <td>1</td>\n",
       "      <td>-0.647964</td>\n",
       "      <td>-0.673210</td>\n",
       "      <td>0.444702</td>\n",
       "      <td>0.158546</td>\n",
       "      <td>3</td>\n",
       "    </tr>\n",
       "    <tr>\n",
       "      <th>1</th>\n",
       "      <td>0</td>\n",
       "      <td>9</td>\n",
       "      <td>7464</td>\n",
       "      <td>1</td>\n",
       "      <td>-0.209126</td>\n",
       "      <td>-0.202129</td>\n",
       "      <td>0.042589</td>\n",
       "      <td>-0.290698</td>\n",
       "      <td>3</td>\n",
       "    </tr>\n",
       "    <tr>\n",
       "      <th>2</th>\n",
       "      <td>0</td>\n",
       "      <td>5</td>\n",
       "      <td>7858</td>\n",
       "      <td>1</td>\n",
       "      <td>0.229712</td>\n",
       "      <td>-0.673210</td>\n",
       "      <td>0.005902</td>\n",
       "      <td>-0.317751</td>\n",
       "      <td>1</td>\n",
       "    </tr>\n",
       "    <tr>\n",
       "      <th>3</th>\n",
       "      <td>2</td>\n",
       "      <td>7</td>\n",
       "      <td>6206</td>\n",
       "      <td>1</td>\n",
       "      <td>-0.209126</td>\n",
       "      <td>1.682194</td>\n",
       "      <td>-0.313561</td>\n",
       "      <td>-0.376219</td>\n",
       "      <td>1</td>\n",
       "    </tr>\n",
       "    <tr>\n",
       "      <th>4</th>\n",
       "      <td>0</td>\n",
       "      <td>9</td>\n",
       "      <td>1492</td>\n",
       "      <td>0</td>\n",
       "      <td>0.668550</td>\n",
       "      <td>-0.202129</td>\n",
       "      <td>0.052536</td>\n",
       "      <td>-0.378313</td>\n",
       "      <td>3</td>\n",
       "    </tr>\n",
       "  </tbody>\n",
       "</table>\n",
       "</div>"
      ],
      "text/plain": [
       "   Segment  Region  Product ID  Category  Quantity  Discount    Profit  \\\n",
       "0        0       0        7846         1 -0.647964 -0.673210  0.444702   \n",
       "1        0       9        7464         1 -0.209126 -0.202129  0.042589   \n",
       "2        0       5        7858         1  0.229712 -0.673210  0.005902   \n",
       "3        2       7        6206         1 -0.209126  1.682194 -0.313561   \n",
       "4        0       9        1492         0  0.668550 -0.202129  0.052536   \n",
       "\n",
       "   Shipping Cost  Order Priority  \n",
       "0       0.158546               3  \n",
       "1      -0.290698               3  \n",
       "2      -0.317751               1  \n",
       "3      -0.376219               1  \n",
       "4      -0.378313               3  "
      ]
     },
     "execution_count": 31,
     "metadata": {},
     "output_type": "execute_result"
    }
   ],
   "source": [
    "#from sklearn.preprocessing import LabelEncoder\n",
    "le = LabelEncoder()\n",
    "for column in Categorical_features:\n",
    "   X[column] =le.fit_transform(X[column])\n",
    "X.head()\n"
   ]
  },
  {
   "cell_type": "code",
   "execution_count": 32,
   "metadata": {},
   "outputs": [
    {
     "name": "stdout",
     "output_type": "stream",
     "text": [
      "(51290,)\n",
      "(51290, 9)\n"
     ]
    }
   ],
   "source": [
    "print(y.shape)\n",
    "print(X.shape)"
   ]
  },
  {
   "cell_type": "markdown",
   "metadata": {},
   "source": [
    "<a name = Section95></a>\n",
    "### 9.5 Spliting data into train and test data"
   ]
  },
  {
   "cell_type": "code",
   "execution_count": 33,
   "metadata": {},
   "outputs": [],
   "source": [
    "from sklearn.model_selection import train_test_split\n",
    "X_train, X_test, y_train, y_test = train_test_split(X, y, test_size=0.2)\n"
   ]
  },
  {
   "cell_type": "code",
   "execution_count": 34,
   "metadata": {},
   "outputs": [
    {
     "name": "stdout",
     "output_type": "stream",
     "text": [
      "(41032,)\n",
      "(41032, 9)\n",
      "(10258,)\n",
      "(10258, 9)\n"
     ]
    }
   ],
   "source": [
    "print(y_train.shape)\n",
    "print(X_train.shape)\n",
    "print(y_test.shape)\n",
    "print(X_test.shape)"
   ]
  },
  {
   "cell_type": "markdown",
   "metadata": {},
   "source": [
    "\n",
    "<a name = Section10></a>\n",
    "# 10. Machine learning Execution\n",
    "\n",
    "\n",
    "\n",
    "\n",
    "- This section is emphasised on using different ML algorithms to predict the sales using the data.\n",
    " "
   ]
  },
  {
   "cell_type": "markdown",
   "metadata": {},
   "source": [
    "<a name = Section101></a>\n",
    "### 10.1 Linear Regression"
   ]
  },
  {
   "cell_type": "code",
   "execution_count": 36,
   "metadata": {},
   "outputs": [
    {
     "data": {
      "text/plain": [
       "LinearRegression()"
      ]
     },
     "execution_count": 36,
     "metadata": {},
     "output_type": "execute_result"
    }
   ],
   "source": [
    "from sklearn.linear_model import LinearRegression\n",
    "linreg = LinearRegression()\n",
    "linreg.fit(X_train,y_train)"
   ]
  },
  {
   "cell_type": "code",
   "execution_count": 38,
   "metadata": {},
   "outputs": [],
   "source": [
    "y_lin_pred =linreg.predict(X_test)"
   ]
  },
  {
   "cell_type": "code",
   "execution_count": 39,
   "metadata": {},
   "outputs": [
    {
     "name": "stdout",
     "output_type": "stream",
     "text": [
      "121.61461934491068\n",
      "121.61461934491068\n"
     ]
    }
   ],
   "source": [
    "from sklearn import metrics\n",
    "MAE_linear = metrics.mean_absolute_error(y_test, y_lin_pred)\n",
    "print(MAE_linear)\n",
    "RMSE_linear = np.sqrt(metrics.mean_squared_error(y_test, y_lin_pred))\n",
    "print(MAE_linear)\n",
    "\n"
   ]
  },
  {
   "cell_type": "code",
   "execution_count": 40,
   "metadata": {},
   "outputs": [
    {
     "name": "stdout",
     "output_type": "stream",
     "text": [
      "R2 =  0.6962115613322076\n"
     ]
    }
   ],
   "source": [
    "from sklearn.metrics import r2_score\n",
    "r2_linear = r2_score(y_test, y_lin_pred)\n",
    "print (\"R2 = \", r2_linear)\n"
   ]
  },
  {
   "cell_type": "code",
   "execution_count": 41,
   "metadata": {},
   "outputs": [
    {
     "name": "stdout",
     "output_type": "stream",
     "text": [
      "0.6962115613322076 0.6959447682069139\n"
     ]
    }
   ],
   "source": [
    "#Adj r2 = 1-(1-R2)*(n-1)/(n-p-1)\n",
    "adjusted_linreg_r_squared = 1 - (1-r2_linear)*(len(y_lin_pred)-1)/(len(y_lin_pred)-X_test.shape[1]-1)\n",
    "print(r2_linear, adjusted_linreg_r_squared)"
   ]
  },
  {
   "cell_type": "markdown",
   "metadata": {},
   "source": [
    "<a name = Section102></a>\n",
    "### 10.2 Decison Tree Regression"
   ]
  },
  {
   "cell_type": "code",
   "execution_count": 42,
   "metadata": {},
   "outputs": [
    {
     "data": {
      "text/plain": [
       "DecisionTreeRegressor(random_state=0)"
      ]
     },
     "execution_count": 42,
     "metadata": {},
     "output_type": "execute_result"
    }
   ],
   "source": [
    "from sklearn import tree\n",
    "decreg = tree.DecisionTreeRegressor(random_state = 0)\n",
    "decreg.fit(X_train, y_train)"
   ]
  },
  {
   "cell_type": "code",
   "execution_count": 43,
   "metadata": {},
   "outputs": [
    {
     "name": "stdout",
     "output_type": "stream",
     "text": [
      "[ 18.54    713.29056 131.2     ...  33.21     11.76    465.18   ]\n"
     ]
    }
   ],
   "source": [
    "y_decreg_pred=decreg.predict(X_test)\n",
    "print(y_decreg_pred)"
   ]
  },
  {
   "cell_type": "code",
   "execution_count": 44,
   "metadata": {},
   "outputs": [
    {
     "name": "stdout",
     "output_type": "stream",
     "text": [
      "89.47839074283486\n",
      "323.55548589989286\n"
     ]
    }
   ],
   "source": [
    "from sklearn import metrics\n",
    "MAE_decreg = metrics.mean_absolute_error(y_test, y_decreg_pred)\n",
    "print(MAE_decreg)\n",
    "RMSE_decreg = np.sqrt(metrics.mean_squared_error(y_test, y_decreg_pred))\n",
    "print(RMSE_decreg)"
   ]
  },
  {
   "cell_type": "code",
   "execution_count": 45,
   "metadata": {},
   "outputs": [
    {
     "name": "stdout",
     "output_type": "stream",
     "text": [
      "R2 =  0.6031478732771651\n"
     ]
    }
   ],
   "source": [
    "from sklearn.metrics import r2_score\n",
    "r2_decreg = r2_score(y_test, y_decreg_pred)\n",
    "print (\"R2 = \", r2_decreg)"
   ]
  },
  {
   "cell_type": "code",
   "execution_count": 46,
   "metadata": {},
   "outputs": [
    {
     "name": "stdout",
     "output_type": "stream",
     "text": [
      "0.6031478732771651 0.6027993497466708\n"
     ]
    }
   ],
   "source": [
    "#Adj r2 = 1-(1-R2)*(n-1)/(n-p-1)\n",
    "adjusted_decreg_r_squared = 1 - (1-r2_decreg)*(len(y_decreg_pred)-1)/(len(y_decreg_pred)-X_test.shape[1]-1)\n",
    "print(r2_decreg, adjusted_decreg_r_squared)\n"
   ]
  },
  {
   "cell_type": "markdown",
   "metadata": {},
   "source": [
    "Linear regression is performing better than Decision tree as R2 and Adjusted R2 increased, so we need to perform hypertuning. "
   ]
  },
  {
   "cell_type": "markdown",
   "metadata": {},
   "source": [
    "<a name = Section103></a>\n",
    "### 10.3 Random Tree Regression"
   ]
  },
  {
   "cell_type": "code",
   "execution_count": 47,
   "metadata": {},
   "outputs": [
    {
     "data": {
      "text/plain": [
       "RandomForestRegressor(random_state=0)"
      ]
     },
     "execution_count": 47,
     "metadata": {},
     "output_type": "execute_result"
    }
   ],
   "source": [
    "from sklearn.ensemble import RandomForestRegressor\n",
    "\n",
    "randreg = RandomForestRegressor(random_state = 0)\n",
    "\n",
    "randreg.fit(X_train, y_train)"
   ]
  },
  {
   "cell_type": "code",
   "execution_count": 48,
   "metadata": {},
   "outputs": [],
   "source": [
    "y_randreg_pred = randreg.predict(X_test)"
   ]
  },
  {
   "cell_type": "code",
   "execution_count": 49,
   "metadata": {},
   "outputs": [
    {
     "name": "stdout",
     "output_type": "stream",
     "text": [
      "65.7407194812439\n",
      "213.29393601803693\n"
     ]
    }
   ],
   "source": [
    "from sklearn import metrics\n",
    "MAE_randreg = metrics.mean_absolute_error(y_test, y_randreg_pred)\n",
    "print(MAE_randreg)\n",
    "RMSE_randreg = np.sqrt(metrics.mean_squared_error(y_test, y_randreg_pred))\n",
    "print(RMSE_randreg)"
   ]
  },
  {
   "cell_type": "code",
   "execution_count": 50,
   "metadata": {},
   "outputs": [
    {
     "name": "stdout",
     "output_type": "stream",
     "text": [
      "R2 =  0.8275400746679031\n"
     ]
    }
   ],
   "source": [
    "from sklearn.metrics import r2_score\n",
    "r2_randreg = r2_score(y_test, y_randreg_pred)\n",
    "print (\"R2 = \", r2_randreg)"
   ]
  },
  {
   "cell_type": "code",
   "execution_count": 51,
   "metadata": {},
   "outputs": [
    {
     "name": "stdout",
     "output_type": "stream",
     "text": [
      "0.8275400746679031 0.8273886168880448\n"
     ]
    }
   ],
   "source": [
    "#Adj r2 = 1-(1-R2)*(n-1)/(n-p-1)\n",
    "adjusted_randreg_r_squared = 1 - (1-r2_randreg)*(len(y_randreg_pred)-1)/(len(y_randreg_pred)-X_test.shape[1]-1)\n",
    "print(r2_randreg, adjusted_randreg_r_squared)"
   ]
  },
  {
   "cell_type": "markdown",
   "metadata": {},
   "source": [
    "<a name = Section104></a>\n",
    "### 10.4 Random Tree Regression Hypertuning using Randomized Search CV"
   ]
  },
  {
   "cell_type": "code",
   "execution_count": 52,
   "metadata": {},
   "outputs": [],
   "source": [
    "from sklearn.model_selection import RandomizedSearchCV\n",
    "from scipy.stats import randint as sp_randint\n",
    "# parameters for RandomSearchCV\n",
    "# specify parameters and distributions to sample from\n",
    "param_dist = {\"max_depth\": range(2,10),\n",
    "              \"min_samples_split\" : [2, 5, 10, 15, 100],\n",
    "              \"min_samples_leaf\" : [1, 2, 5, 10],\n",
    "              \"criterion\" : [\"mse\", \"mae\"],\n",
    "              'max_features': ['sqrt', 'log2']\n",
    "             }\n",
    "# run randomized search\n",
    "n_iter_search = 10\n",
    "random_search = RandomizedSearchCV(decreg, param_distributions = param_dist,\n",
    "                                   n_iter = n_iter_search,\n",
    "                                   n_jobs = -1)"
   ]
  },
  {
   "cell_type": "code",
   "execution_count": 53,
   "metadata": {},
   "outputs": [
    {
     "data": {
      "text/plain": [
       "RandomizedSearchCV(estimator=DecisionTreeRegressor(random_state=0), n_jobs=-1,\n",
       "                   param_distributions={'criterion': ['mse', 'mae'],\n",
       "                                        'max_depth': range(2, 10),\n",
       "                                        'max_features': ['sqrt', 'log2'],\n",
       "                                        'min_samples_leaf': [1, 2, 5, 10],\n",
       "                                        'min_samples_split': [2, 5, 10, 15,\n",
       "                                                              100]})"
      ]
     },
     "execution_count": 53,
     "metadata": {},
     "output_type": "execute_result"
    }
   ],
   "source": [
    "random_search.fit(X_train, y_train)"
   ]
  },
  {
   "cell_type": "code",
   "execution_count": 54,
   "metadata": {},
   "outputs": [],
   "source": [
    "y_random_search_pred = random_search.predict(X_test)"
   ]
  },
  {
   "cell_type": "code",
   "execution_count": 55,
   "metadata": {},
   "outputs": [
    {
     "name": "stdout",
     "output_type": "stream",
     "text": [
      "84.03316700492523\n",
      "218.74550312152937\n"
     ]
    }
   ],
   "source": [
    "from sklearn import metrics\n",
    "MAE_random_search_decreg = metrics.mean_absolute_error(y_test,y_random_search_pred)\n",
    "print(MAE_random_search_decreg)\n",
    "RMSE_random_search_decreg = np.sqrt(metrics.mean_squared_error(y_test, y_random_search_pred))\n",
    "print(RMSE_random_search_decreg)\n",
    "\n",
    "  \n",
    "      \n",
    "      "
   ]
  },
  {
   "cell_type": "code",
   "execution_count": 56,
   "metadata": {},
   "outputs": [
    {
     "name": "stdout",
     "output_type": "stream",
     "text": [
      "R2 after Random search  =  0.8186116275143807\n",
      "R2 before Randon Search =  0.6031478732771651\n"
     ]
    }
   ],
   "source": [
    "from sklearn.metrics import r2_score\n",
    "r2_random_decreg = r2_score(y_test, y_random_search_pred)\n",
    "print (\"R2 after Random search  = \", r2_random_decreg)\n",
    "\n",
    "print (\"R2 before Randon Search = \", r2_decreg)"
   ]
  },
  {
   "cell_type": "code",
   "execution_count": 57,
   "metadata": {},
   "outputs": [
    {
     "name": "stdout",
     "output_type": "stream",
     "text": [
      "0.8186116275143807 0.8184523285924085\n"
     ]
    }
   ],
   "source": [
    "#Adj r2 = 1-(1-R2)*(n-1)/(n-p-1)\n",
    "adjusted_random_decreg_r_squared = 1 - (1-r2_random_decreg)*(len(y_random_search_pred)-1)/(len(y_random_search_pred)-X_test.shape[1]-1)\n",
    "print(r2_random_decreg, adjusted_random_decreg_r_squared)"
   ]
  },
  {
   "cell_type": "markdown",
   "metadata": {},
   "source": [
    "<a name = Section11></a>\n",
    "# 11. Conclusion"
   ]
  },
  {
   "cell_type": "markdown",
   "metadata": {},
   "source": [
    "<a name = Section111></a>\n",
    "### 11.1 Comparision between all algorithms"
   ]
  },
  {
   "cell_type": "code",
   "execution_count": 70,
   "metadata": {},
   "outputs": [],
   "source": [
    "Regression_Score = []\n",
    "Score_Heading = ['Algorithm','Mean Absolute Error','RMSE','R-Squared','Adjusted R-Squared']"
   ]
  },
  {
   "cell_type": "code",
   "execution_count": 71,
   "metadata": {},
   "outputs": [],
   "source": [
    "Regression_Score.append(['Linear Regression', MAE_linear, RMSE_linear, r2_linear,adjusted_linreg_r_squared])\n",
    "Regression_Score.append(['Decision Tree Regression', MAE_decreg, RMSE_decreg, r2_decreg,adjusted_decreg_r_squared])\n",
    "Regression_Score.append(['Random Forest  Regression', MAE_randreg, RMSE_randreg, r2_randreg,adjusted_randreg_r_squared])\n",
    "Regression_Score.append(['Randon Forest Regression (Randomised Search CV)', MAE_random_search_decreg, RMSE_random_search_decreg,r2_random_decreg,adjusted_random_decreg_r_squared])"
   ]
  },
  {
   "cell_type": "code",
   "execution_count": 72,
   "metadata": {},
   "outputs": [],
   "source": [
    "Final_comparision = pd.DataFrame( data =Regression_Score,columns=Score_Heading)"
   ]
  },
  {
   "cell_type": "code",
   "execution_count": 73,
   "metadata": {},
   "outputs": [
    {
     "data": {
      "text/html": [
       "<div>\n",
       "<style scoped>\n",
       "    .dataframe tbody tr th:only-of-type {\n",
       "        vertical-align: middle;\n",
       "    }\n",
       "\n",
       "    .dataframe tbody tr th {\n",
       "        vertical-align: top;\n",
       "    }\n",
       "\n",
       "    .dataframe thead th {\n",
       "        text-align: right;\n",
       "    }\n",
       "</style>\n",
       "<table border=\"1\" class=\"dataframe\">\n",
       "  <thead>\n",
       "    <tr style=\"text-align: right;\">\n",
       "      <th></th>\n",
       "      <th>Mean Absolute Error</th>\n",
       "      <th>RMSE</th>\n",
       "      <th>R-Squared</th>\n",
       "      <th>Adjusted R-Squared</th>\n",
       "    </tr>\n",
       "    <tr>\n",
       "      <th>Algorithm</th>\n",
       "      <th></th>\n",
       "      <th></th>\n",
       "      <th></th>\n",
       "      <th></th>\n",
       "    </tr>\n",
       "  </thead>\n",
       "  <tbody>\n",
       "    <tr>\n",
       "      <th>Linear Regression</th>\n",
       "      <td>121.614619</td>\n",
       "      <td>283.087069</td>\n",
       "      <td>0.696212</td>\n",
       "      <td>0.695945</td>\n",
       "    </tr>\n",
       "    <tr>\n",
       "      <th>Decision Tree Regression</th>\n",
       "      <td>89.478391</td>\n",
       "      <td>323.555486</td>\n",
       "      <td>0.603148</td>\n",
       "      <td>0.602799</td>\n",
       "    </tr>\n",
       "    <tr>\n",
       "      <th>Random Forest  Regression</th>\n",
       "      <td>65.740719</td>\n",
       "      <td>213.293936</td>\n",
       "      <td>0.827540</td>\n",
       "      <td>0.827389</td>\n",
       "    </tr>\n",
       "    <tr>\n",
       "      <th>Randon Forest Regression (Randomised Search CV)</th>\n",
       "      <td>84.033167</td>\n",
       "      <td>218.745503</td>\n",
       "      <td>0.818612</td>\n",
       "      <td>0.818452</td>\n",
       "    </tr>\n",
       "  </tbody>\n",
       "</table>\n",
       "</div>"
      ],
      "text/plain": [
       "                                                 Mean Absolute Error  \\\n",
       "Algorithm                                                              \n",
       "Linear Regression                                         121.614619   \n",
       "Decision Tree Regression                                   89.478391   \n",
       "Random Forest  Regression                                  65.740719   \n",
       "Randon Forest Regression (Randomised Search CV)            84.033167   \n",
       "\n",
       "                                                       RMSE  R-Squared  \\\n",
       "Algorithm                                                                \n",
       "Linear Regression                                283.087069   0.696212   \n",
       "Decision Tree Regression                         323.555486   0.603148   \n",
       "Random Forest  Regression                        213.293936   0.827540   \n",
       "Randon Forest Regression (Randomised Search CV)  218.745503   0.818612   \n",
       "\n",
       "                                                 Adjusted R-Squared  \n",
       "Algorithm                                                            \n",
       "Linear Regression                                          0.695945  \n",
       "Decision Tree Regression                                   0.602799  \n",
       "Random Forest  Regression                                  0.827389  \n",
       "Randon Forest Regression (Randomised Search CV)            0.818452  "
      ]
     },
     "execution_count": 73,
     "metadata": {},
     "output_type": "execute_result"
    }
   ],
   "source": [
    "Final_comparision = Final_comparision.set_index('Algorithm')\n",
    "Final_comparision "
   ]
  },
  {
   "cell_type": "markdown",
   "metadata": {},
   "source": [
    "### It clearly shows Random Forest Regression performing well in predicting online sales for this case study."
   ]
  },
  {
   "cell_type": "code",
   "execution_count": null,
   "metadata": {},
   "outputs": [],
   "source": []
  }
 ],
 "metadata": {
  "colab": {
   "authorship_tag": "ABX9TyPYnAdiY7Enody0No4RXYaD",
   "collapsed_sections": [],
   "name": "Analysis on Facebook Utilization.ipynb",
   "provenance": []
  },
  "kernelspec": {
   "display_name": "Python 3",
   "language": "python",
   "name": "python3"
  },
  "language_info": {
   "codemirror_mode": {
    "name": "ipython",
    "version": 3
   },
   "file_extension": ".py",
   "mimetype": "text/x-python",
   "name": "python",
   "nbconvert_exporter": "python",
   "pygments_lexer": "ipython3",
   "version": "3.8.3"
  }
 },
 "nbformat": 4,
 "nbformat_minor": 1
}
